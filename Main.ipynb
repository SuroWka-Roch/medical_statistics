{
 "cells": [
  {
   "cell_type": "code",
   "execution_count": 1,
   "metadata": {},
   "outputs": [],
   "source": [
    "import classes\n",
    "import time\n",
    "import datetime\n",
    "import pandas as pd\n",
    "from tqdm import tqdm\n",
    "import numpy\n",
    "\n",
    "\n",
    "#open import data as pandas dataframe\n",
    "patient_data = pd.read_csv(\"./data/PACJENT.TXT\",sep=\";\",header=0)\n",
    "test_data = pd.read_csv(\"./data/BADANIA2.TXT\",sep=\";\",header=0)\n",
    "bacteria_data = pd.read_csv(\"./data/DROBN.TXT\",sep=\";\",header=0)\n",
    "drag_sus_data = pd.read_csv(\"./data/LEKOWRAZ.TXT\",sep=\";\",header=0)"
   ]
  },
  {
   "cell_type": "code",
   "execution_count": 2,
   "metadata": {},
   "outputs": [
    {
     "name": "stdout",
     "output_type": "stream",
     "text": [
      "Number of unfiltered patient records: 6861\n",
      "Number of unfiltered tests records: 17198\n",
      "Number of unfiltered bacteria records: 15553\n",
      "Number of unfiltered sus records: 136286\n"
     ]
    }
   ],
   "source": [
    "print(\"Number of unfiltered patient records: \" +  str(len(patient_data)))\n",
    "print(\"Number of unfiltered tests records: \" +  str(len(test_data)))\n",
    "print(\"Number of unfiltered bacteria records: \" +  str(len(bacteria_data)))\n",
    "print(\"Number of unfiltered sus records: \" +  str(len(drag_sus_data)))"
   ]
  },
  {
   "cell_type": "code",
   "execution_count": 3,
   "metadata": {},
   "outputs": [
    {
     "name": "stdout",
     "output_type": "stream",
     "text": [
      "year 199200 is out of range\n",
      "bad value at line 1472\n",
      "invalid literal for int() with base 10: '1993:00:00'\n",
      "bad value at line 5849\n",
      "year 19930 is out of range\n",
      "bad value at line 5880\n",
      "year 19940 is out of range\n",
      "bad value at line 8777\n",
      "year 19940 is out of range\n",
      "bad value at line 10233\n",
      "invalid literal for int() with base 10: '19950:00:00'\n",
      "bad value at line 14552\n",
      "invalid literal for int() with base 10: '19950:00:00'\n",
      "bad value at line 14583\n"
     ]
    }
   ],
   "source": [
    "test_classes = []\n",
    "\n",
    "for index, data in test_data.iterrows():\n",
    "    try:\n",
    "        temp = classes.Test(data[\"badanie id\"], data[\"id pobytu\"], data[\"data\"], data[\"kod materialu\"])\n",
    "        if temp.is_date_between( datetime.date(1992,1,1), datetime.date(1996,3,31)):\n",
    "            test_classes.append(temp)\n",
    "        else:\n",
    "            pass\n",
    "            #print(\"date outside of range at line: \"+ str( index) )\n",
    "            #print(\"date: \" + str(temp.date) + \"\\n\")\n",
    "    except ValueError as e:\n",
    "        print(str(e))\n",
    "        print(\"bad value at line \" + str(index) )\n",
    "        continue "
   ]
  },
  {
   "cell_type": "code",
   "execution_count": 4,
   "metadata": {},
   "outputs": [
    {
     "name": "stdout",
     "output_type": "stream",
     "text": [
      "new test's lenght = 16995, delta = 203\n"
     ]
    }
   ],
   "source": [
    "delta = len(test_data) - len(test_classes)\n",
    "print(\"new test's lenght = {}, delta = {}\".format(len(test_classes), delta))\n",
    "    "
   ]
  },
  {
   "cell_type": "code",
   "execution_count": 5,
   "metadata": {},
   "outputs": [
    {
     "name": "stdout",
     "output_type": "stream",
     "text": [
      "same id at index: 726\n",
      "with id at: 725\n",
      "['oiom', 'neur']\n",
      "same id at index: 2225\n",
      "with id at: 2223\n",
      "['WEWN', 'nacz']\n",
      "same id at index: 3326\n",
      "with id at: 3323\n",
      "['nefr', 'szcz']\n",
      "same id at index: 3327\n",
      "with id at: 3323\n",
      "same id at index: 3670\n",
      "with id at: 3665\n",
      "['PLAS', 'urol']\n",
      "same id at index: 3872\n",
      "with id at: 3866\n",
      "['WEWN', 'nacz']\n",
      "same id at index: 3873\n",
      "with id at: 3866\n",
      "same id at index: 4185\n",
      "with id at: 4177\n",
      "['REUM', 'nefr']\n",
      "same id at index: 4916\n",
      "with id at: 4907\n",
      "['NEFR', 'nech']\n",
      "6852\n"
     ]
    }
   ],
   "source": [
    "patient_classes = []\n",
    "for index, data in patient_data.iterrows():\n",
    "    temp_class = classes.Patient(data[\"numer\"], data[\"sex\"], data[\"depName\"])\n",
    "    if temp_class.PatientId not in [klass.PatientId for klass in patient_classes]:\n",
    "        patient_classes.append(temp_class)\n",
    "    else:\n",
    "        print(\"same id at index: \" + str(index))\n",
    "        for i in range(len(patient_classes)):\n",
    "            if temp_class.PatientId == patient_classes[i].PatientId:\n",
    "                print(\"with id at: \" + str(i))\n",
    "                if temp_class.department[0] not in patient_classes[i].department:\n",
    "                    patient_classes[i].extend_department(temp_class)\n",
    "                    print(patient_classes[i].department)\n",
    "                    break\n",
    "print(len(patient_classes))"
   ]
  },
  {
   "cell_type": "code",
   "execution_count": 6,
   "metadata": {},
   "outputs": [
    {
     "name": "stdout",
     "output_type": "stream",
     "text": [
      "table lenght 6861\n",
      "classes array table len 6852\n",
      "dwa powtórzenia i 7 złączeń\n"
     ]
    }
   ],
   "source": [
    "print(\"table lenght {}\".format(len(patient_data)))\n",
    "print(\"classes array table len \" + str( patient_classes.__len__()) )\n",
    "print(\"dwa powtórzenia i 7 złączeń\")"
   ]
  },
  {
   "cell_type": "code",
   "execution_count": 7,
   "metadata": {},
   "outputs": [],
   "source": [
    "bacteria_classes = [classes.Bacteria(data[\"drobnoustroj id\"],\n",
    "                                           data[\"id badania\"],\n",
    "                                           data[\"kod drobnoustroju\"])\n",
    "                                                        for index, data in bacteria_data.iterrows()]\n",
    "drug_classes = [classes.DrugSusceptibility(data[\"id drobnoustroju\"],\n",
    "                                           data[\"kod leku\"],\n",
    "                                           data[\"opornosc\"])\n",
    "                                                        for index, data in drag_sus_data.iterrows()]"
   ]
  },
  {
   "cell_type": "code",
   "execution_count": 8,
   "metadata": {},
   "outputs": [],
   "source": [
    "table_of_test_id = [klass.testId for klass in test_classes]\n",
    "table_of_patient_id = [klass.PatientId for klass in patient_classes]"
   ]
  },
  {
   "cell_type": "code",
   "execution_count": 9,
   "metadata": {},
   "outputs": [
    {
     "name": "stdout",
     "output_type": "stream",
     "text": [
      "badania filtrowanie: długość przed 16995 długość po 16995 delta 0 \n",
      "bakteria filtrowanie: długość przed 15553 długość po 15421 delta 132 \n"
     ]
    }
   ],
   "source": [
    "to_remove = []\n",
    "for i in range(len(test_classes)):\n",
    "    if test_classes[i].PatientId not in table_of_patient_id:\n",
    "        to_remove.append(test_classes[i])\n",
    "        \n",
    "lenght_before = len(test_classes)\n",
    "for o in to_remove:\n",
    "    test_classes.remove(o)\n",
    "len_after = len(test_classes)\n",
    "print(\"badania filtrowanie: długość przed {} długość po {} delta {} \".format(lenght_before,len_after,lenght_before-len_after))\n",
    "    \n",
    "to_remove = []\n",
    "for i in range(len(bacteria_classes)):\n",
    "    if bacteria_classes[i].testId not in table_of_test_id:\n",
    "        to_remove.append(bacteria_classes[i])\n",
    "lenght_before = len(bacteria_classes)\n",
    "\n",
    "for o in to_remove:\n",
    "    bacteria_classes.remove(o)\n",
    "    \n",
    "len_after = len(bacteria_classes)\n",
    "print(\"bakteria filtrowanie: długość przed {} długość po {} delta {} \".format(lenght_before,len_after,lenght_before-len_after))"
   ]
  },
  {
   "cell_type": "code",
   "execution_count": 10,
   "metadata": {},
   "outputs": [
    {
     "name": "stdout",
     "output_type": "stream",
     "text": [
      "drug filtrowanie: długość przed 136286 długość po 135220 delta 1066 \n"
     ]
    }
   ],
   "source": [
    "to_remove = []\n",
    "\n",
    "table_of_bacteria_id = [klass.bacteriaId for klass in bacteria_classes]\n",
    "for i in range(len(drug_classes)):\n",
    "    if drug_classes[i].DrugId not in table_of_bacteria_id:\n",
    "        to_remove.append(drug_classes[i])\n",
    "        \n",
    "lenght_before = len(drug_classes)        \n",
    "\n",
    "for o in to_remove:\n",
    "    try:\n",
    "        drug_classes.remove(o)    \n",
    "    except ValueError as e:\n",
    "        print(str(e))\n",
    "len_after = len(drug_classes)\n",
    "print(\"drug filtrowanie: długość przed {} długość po {} delta {} \".format(lenght_before,len_after,lenght_before-len_after))"
   ]
  },
  {
   "cell_type": "code",
   "execution_count": 11,
   "metadata": {},
   "outputs": [
    {
     "name": "stderr",
     "output_type": "stream",
     "text": [
      "100%|██████████| 135220/135220 [03:08<00:00, 716.88it/s]\n"
     ]
    }
   ],
   "source": [
    "#budowanie drzewa zależności od antybiotyku w górę\n",
    "for drug in tqdm(drug_classes):\n",
    "    for i in range(len(bacteria_classes)):\n",
    "        if drug.DrugId == bacteria_classes[i].bacteriaId:\n",
    "            bacteria_classes[i].add_susceptibility(drug)\n",
    "            break"
   ]
  },
  {
   "cell_type": "code",
   "execution_count": 12,
   "metadata": {},
   "outputs": [
    {
     "name": "stdout",
     "output_type": "stream",
     "text": [
      "z badaniem 13505 bez 1916\n"
     ]
    }
   ],
   "source": [
    "bez_badania = 0\n",
    "z_badaniem = 0\n",
    "for bacteria in bacteria_classes:\n",
    "    if bacteria.DrugSusceptibility:\n",
    "        z_badaniem+=1\n",
    "    else:\n",
    "        bez_badania+=1\n",
    "print(\"z badaniem {} bez {}\".format(z_badaniem,bez_badania))"
   ]
  },
  {
   "cell_type": "code",
   "execution_count": 13,
   "metadata": {},
   "outputs": [
    {
     "name": "stderr",
     "output_type": "stream",
     "text": [
      "100%|██████████| 15421/15421 [00:35<00:00, 432.64it/s]\n"
     ]
    }
   ],
   "source": [
    "#bakterie do badania - help :(\n",
    "for bakteria in tqdm(bacteria_classes):\n",
    "    for i in range(len(test_classes)):\n",
    "        if bakteria.testId == test_classes[i].testId:\n",
    "            test_classes[i].add_bacteria(bakteria)\n",
    "            break"
   ]
  },
  {
   "cell_type": "code",
   "execution_count": 14,
   "metadata": {},
   "outputs": [
    {
     "name": "stdout",
     "output_type": "stream",
     "text": [
      "z bakterią 13505 bez 1916\n"
     ]
    }
   ],
   "source": [
    "bez_bakteri = 0\n",
    "z_bakterio = 0\n",
    "for test in test_classes:\n",
    "    if test.Bacteria:\n",
    "        z_bakterio+=1\n",
    "    else:\n",
    "        bez_bakteri+=1\n",
    "print(\"z bakterią {} bez {}\".format(z_badaniem,bez_badania))"
   ]
  },
  {
   "cell_type": "code",
   "execution_count": 15,
   "metadata": {},
   "outputs": [
    {
     "name": "stderr",
     "output_type": "stream",
     "text": [
      "100%|██████████| 16995/16995 [00:07<00:00, 2414.56it/s]\n"
     ]
    }
   ],
   "source": [
    "#badania do pacjętów - there is no god he left us all\n",
    "for test in tqdm(test_classes):\n",
    "    for i in range(len(patient_classes)):\n",
    "        if test.PatientId == patient_classes[i].PatientId:\n",
    "            patient_classes[i].add_test(test)\n",
    "            break"
   ]
  },
  {
   "cell_type": "code",
   "execution_count": 16,
   "metadata": {},
   "outputs": [
    {
     "name": "stdout",
     "output_type": "stream",
     "text": [
      "z badaniem 6746 bez 106\n"
     ]
    }
   ],
   "source": [
    "bez_badania= 0\n",
    "z_badaniem = 0\n",
    "for patient in patient_classes:\n",
    "    if patient.test:\n",
    "        z_badaniem+=1\n",
    "    else:\n",
    "        bez_badania+=1\n",
    "print(\"z badaniem {} bez {}\".format(z_badaniem,bez_badania))"
   ]
  },
  {
   "cell_type": "code",
   "execution_count": 17,
   "metadata": {},
   "outputs": [],
   "source": [
    "temp = [klass for klass in  patient_classes if klass.test and klass.test[0].materialId == 120]\n",
    "#120 pochwa i z tego wychodzą same 0 czli 0-kob 1-mężcz"
   ]
  },
  {
   "cell_type": "code",
   "execution_count": 18,
   "metadata": {},
   "outputs": [
    {
     "data": {
      "text/plain": [
       "41"
      ]
     },
     "execution_count": 18,
     "metadata": {},
     "output_type": "execute_result"
    }
   ],
   "source": [
    "#ile materiałów testowano\n",
    "len(test_data[\"kod materialu\"].drop_duplicates())"
   ]
  },
  {
   "cell_type": "code",
   "execution_count": 19,
   "metadata": {},
   "outputs": [
    {
     "data": {
      "text/plain": [
       "178"
      ]
     },
     "execution_count": 19,
     "metadata": {},
     "output_type": "execute_result"
    }
   ],
   "source": [
    "#ile drobnoustrojów wykryto\n",
    "len(bacteria_data[\"kod drobnoustroju\"].drop_duplicates() )"
   ]
  },
  {
   "cell_type": "code",
   "execution_count": 20,
   "metadata": {},
   "outputs": [
    {
     "data": {
      "text/plain": [
       "75"
      ]
     },
     "execution_count": 20,
     "metadata": {},
     "output_type": "execute_result"
    }
   ],
   "source": [
    "#ile leków testowano\n",
    "len( drag_sus_data[\"kod leku\"].drop_duplicates() )"
   ]
  },
  {
   "cell_type": "code",
   "execution_count": 33,
   "metadata": {},
   "outputs": [
    {
     "data": {
      "text/plain": [
       "<module 'datetime' from '/usr/lib/python3.6/datetime.py'>"
      ]
     },
     "execution_count": 33,
     "metadata": {},
     "output_type": "execute_result"
    }
   ],
   "source": [
    "import importlib\n",
    "import helper\n",
    "\n",
    "\n",
    "importlib.reload(helper)\n",
    "importlib.reload(datetime)"
   ]
  },
  {
   "cell_type": "code",
   "execution_count": 34,
   "metadata": {},
   "outputs": [
    {
     "data": {
      "text/plain": [
       "(2150, 5108, 2328)"
      ]
     },
     "execution_count": 34,
     "metadata": {},
     "output_type": "execute_result"
    }
   ],
   "source": [
    "helper.drugi_akapit(patient_classes,time_max=datetime.date(100,1,1))\n",
    "helper.trzeci_akapit(patient_classes,time_max=datetime.date(1993,1,1))"
   ]
  },
  {
   "cell_type": "code",
   "execution_count": 35,
   "metadata": {},
   "outputs": [
    {
     "name": "stdout",
     "output_type": "stream",
     "text": [
      "wszystkie lata\n",
      "(6746, 6746, 5189)\n",
      "(3165, 3165, 2428)\n",
      "(3581, 3581, 2761)\n",
      "co rok\n",
      "rok 1992\n",
      "(2150, 2150, 1599)\n",
      "(958, 958, 698)\n",
      "(1192, 1192, 901)\n",
      "rok 1993\n",
      "(1367, 1367, 1282)\n",
      "(690, 690, 630)\n",
      "(677, 677, 652)\n",
      "rok 1994\n",
      "(1350, 1350, 1173)\n",
      "(646, 646, 563)\n",
      "(704, 704, 610)\n",
      "rok 1995\n",
      "(1864, 1864, 1254)\n",
      "(888, 888, 613)\n",
      "(976, 976, 641)\n",
      "rok 1996\n",
      "(559, 559, 405)\n",
      "(258, 258, 191)\n",
      "(301, 301, 214)\n"
     ]
    }
   ],
   "source": [
    "kobiety = [klass for klass in patient_classes if klass.sex == 0]\n",
    "chłopy = [klass for klass in patient_classes if klass.sex == 1]\n",
    "\n",
    "#drugi akapitp\n",
    "print(\"wszystkie lata\")\n",
    "print( helper.drugi_akapit(patient_classes) ) #wspólne\n",
    "print( helper.drugi_akapit(kobiety) )\n",
    "print( helper.drugi_akapit(chłopy) )\n",
    "\n",
    "print(\"co rok\")\n",
    "for i in range(1992,1997):\n",
    "    print(\"rok \" + str(i))\n",
    "    print( helper.drugi_akapit(patient_classes, time_min= datetime.date(i,1,1), time_max=datetime.date(i,12,31))) #wspólne\n",
    "    print( helper.drugi_akapit(kobiety,time_min= datetime.date(i,1,1), time_max=datetime.date(i,12,31) ))\n",
    "    print( helper.drugi_akapit(chłopy,time_min= datetime.date(i,1,1), time_max=datetime.date(i,12,31) ))"
   ]
  },
  {
   "cell_type": "code",
   "execution_count": 36,
   "metadata": {},
   "outputs": [
    {
     "name": "stdout",
     "output_type": "stream",
     "text": [
      "we have 8 fields without department names\n"
     ]
    }
   ],
   "source": [
    "import collections\n",
    "collections.Counter(patient_data[\"depName\"].values)\n",
    "\n",
    "print(\"we have 8 fields without department names\")"
   ]
  },
  {
   "cell_type": "code",
   "execution_count": 82,
   "metadata": {},
   "outputs": [
    {
     "data": {
      "text/plain": [
       "['OIOM',\n",
       " 'NACZ',\n",
       " 'URAZ',\n",
       " 'WEWN',\n",
       " 'CHIR',\n",
       " 'REUM',\n",
       " 'NEFR',\n",
       " 'UROL',\n",
       " 'NECH',\n",
       " 'NEUR',\n",
       " 'USPR',\n",
       " 'PLAS',\n",
       " 'OKUL',\n",
       " 'LARY',\n",
       " 'SZCZ']"
      ]
     },
     "execution_count": 82,
     "metadata": {},
     "output_type": "execute_result"
    }
   ],
   "source": [
    "oddzial_list = list( patient_data[\"depName\"].drop_duplicates().values)\n",
    "\n",
    "oddzial_list.remove(numpy.nan)\n",
    "\n",
    "oddzial_list = pd.DataFrame ([a.upper() for a in oddzial_list]).drop_duplicates()\n",
    "\n",
    "oddzial_list = list(oddzial_list[0])\n",
    "\n",
    "oddzial_list\n",
    "\n"
   ]
  },
  {
   "cell_type": "code",
   "execution_count": 83,
   "metadata": {},
   "outputs": [],
   "source": [
    "#przenieś wszystkie departmenty na all caps\n",
    "for i in range(len(patient_classes)):\n",
    "    for j in range(len(patient_classes[i].department)):\n",
    "        try:\n",
    "            patient_classes[i].department[j]=patient_classes[i].department[j].upper()\n",
    "        except AttributeError as e:\n",
    "            pass"
   ]
  },
  {
   "cell_type": "code",
   "execution_count": 84,
   "metadata": {
    "scrolled": false
   },
   "outputs": [
    {
     "name": "stdout",
     "output_type": "stream",
     "text": [
      "wszystkie lata\n",
      "(6746, 16995, 9269)\n",
      "1992 &5106 &2327 \\\n",
      "1993 &3097 &1992 \\\n",
      "1994 &3186 &2120 \\\n",
      "1995 &4346 &2126 \\\n",
      "1996 &1260 &704 \\\n",
      "\n",
      "\n",
      "\n",
      "\\hline \\multicolumn{3}{|c|}{Oddział OIOM} \\\\ \\hline\n",
      "wspólnie &6043 &3546 \\\\\n",
      "1992 &1649 &893 \\\\\n",
      "1993 &1210 &785 \\\\\n",
      "1994 &1297 &843 \\\\\n",
      "1995 &1447 &778 \\\\\n",
      "1996 &440 &247 \\\\\n",
      "\\hline \\multicolumn{3}{|c|}{Oddział NACZ} \\\\ \\hline\n",
      "wspólnie &428 &304 \\\\\n",
      "1992 &160 &99 \\\\\n",
      "1993 &123 &97 \\\\\n",
      "1994 &51 &50 \\\\\n",
      "1995 &79 &49 \\\\\n",
      "1996 &15 &9 \\\\\n",
      "\\hline \\multicolumn{3}{|c|}{Oddział URAZ} \\\\ \\hline\n",
      "wspólnie &1171 &683 \\\\\n",
      "1992 &308 &139 \\\\\n",
      "1993 &191 &144 \\\\\n",
      "1994 &231 &174 \\\\\n",
      "1995 &356 &176 \\\\\n",
      "1996 &85 &50 \\\\\n",
      "\\hline \\multicolumn{3}{|c|}{Oddział WEWN} \\\\ \\hline\n",
      "wspólnie &1848 &623 \\\\\n",
      "1992 &822 &232 \\\\\n",
      "1993 &251 &108 \\\\\n",
      "1994 &293 &118 \\\\\n",
      "1995 &401 &127 \\\\\n",
      "1996 &81 &38 \\\\\n",
      "\\hline \\multicolumn{3}{|c|}{Oddział CHIR} \\\\ \\hline\n",
      "wspólnie &622 &422 \\\\\n",
      "1992 &180 &107 \\\\\n",
      "1993 &87 &74 \\\\\n",
      "1994 &125 &100 \\\\\n",
      "1995 &179 &100 \\\\\n",
      "1996 &51 &41 \\\\\n",
      "\\hline \\multicolumn{3}{|c|}{Oddział REUM} \\\\ \\hline\n",
      "wspólnie &799 &372 \\\\\n",
      "1992 &204 &73 \\\\\n",
      "1993 &160 &88 \\\\\n",
      "1994 &171 &107 \\\\\n",
      "1995 &200 &78 \\\\\n",
      "1996 &64 &26 \\\\\n",
      "\\hline \\multicolumn{3}{|c|}{Oddział NEFR} \\\\ \\hline\n",
      "wspólnie &2039 &789 \\\\\n",
      "1992 &511 &125 \\\\\n",
      "1993 &343 &151 \\\\\n",
      "1994 &312 &193 \\\\\n",
      "1995 &693 &241 \\\\\n",
      "1996 &180 &79 \\\\\n",
      "\\hline \\multicolumn{3}{|c|}{Oddział UROL} \\\\ \\hline\n",
      "wspólnie &552 &320 \\\\\n",
      "1992 &178 &83 \\\\\n",
      "1993 &123 &87 \\\\\n",
      "1994 &85 &59 \\\\\n",
      "1995 &130 &65 \\\\\n",
      "1996 &36 &26 \\\\\n",
      "\\hline \\multicolumn{3}{|c|}{Oddział NECH} \\\\ \\hline\n",
      "wspólnie &649 &390 \\\\\n",
      "1992 &195 &98 \\\\\n",
      "1993 &117 &97 \\\\\n",
      "1994 &122 &89 \\\\\n",
      "1995 &148 &75 \\\\\n",
      "1996 &67 &31 \\\\\n",
      "\\hline \\multicolumn{3}{|c|}{Oddział NEUR} \\\\ \\hline\n",
      "wspólnie &681 &392 \\\\\n",
      "1992 &290 &133 \\\\\n",
      "1993 &161 &119 \\\\\n",
      "1994 &85 &68 \\\\\n",
      "1995 &105 &53 \\\\\n",
      "1996 &40 &19 \\\\\n",
      "\\hline \\multicolumn{3}{|c|}{Oddział USPR} \\\\ \\hline\n",
      "wspólnie &846 &555 \\\\\n",
      "1992 &180 &103 \\\\\n",
      "1993 &95 &70 \\\\\n",
      "1994 &200 &139 \\\\\n",
      "1995 &264 &174 \\\\\n",
      "1996 &107 &69 \\\\\n",
      "\\hline \\multicolumn{3}{|c|}{Oddział PLAS} \\\\ \\hline\n",
      "wspólnie &381 &286 \\\\\n",
      "1992 &141 &95 \\\\\n",
      "1993 &81 &66 \\\\\n",
      "1994 &57 &51 \\\\\n",
      "1995 &83 &59 \\\\\n",
      "1996 &19 &15 \\\\\n",
      "\\hline \\multicolumn{3}{|c|}{Oddział OKUL} \\\\ \\hline\n",
      "wspólnie &204 &101 \\\\\n",
      "1992 &50 &17 \\\\\n",
      "1993 &23 &10 \\\\\n",
      "1994 &20 &14 \\\\\n",
      "1995 &81 &40 \\\\\n",
      "1996 &30 &20 \\\\\n",
      "\\hline \\multicolumn{3}{|c|}{Oddział LARY} \\\\ \\hline\n",
      "wspólnie &605 &407 \\\\\n",
      "1992 &214 &122 \\\\\n",
      "1993 &110 &80 \\\\\n",
      "1994 &103 &93 \\\\\n",
      "1995 &140 &84 \\\\\n",
      "1996 &38 &28 \\\\\n",
      "\\hline \\multicolumn{3}{|c|}{Oddział SZCZ} \\\\ \\hline\n",
      "wspólnie &153 &95 \\\\\n",
      "1992 &36 &17 \\\\\n",
      "1993 &31 &20 \\\\\n",
      "1994 &38 &25 \\\\\n",
      "1995 &41 &27 \\\\\n",
      "1996 &7 &6 \\\\\n"
     ]
    }
   ],
   "source": [
    "#trzeci akapit\n",
    "print(\"wszystkie lata\")\n",
    "print( helper.trzeci_akapit(patient_classes) ) #wspólne\n",
    "\n",
    "for i in range(1992,1997):\n",
    "    #print(r\"\\multicolumn{3}{|c|}{Rok \" + str(rok) + \"}\")\n",
    "    helpe = helper.trzeci_akapit(patient_classes, time_min= datetime.date(i,1,1), time_max=datetime.date(i,12,31))\n",
    "    print(\"{} &{} &{} \\\\\".format(str(i),helpe[1],helpe[2]))  #wspólne\n",
    "print( \"\\n\\n\")\n",
    "\n",
    "for oddzial in oddzial_list:\n",
    "    \n",
    "    wydzial_classes = [klass for klass in  patient_classes if oddzial in  klass.department ]\n",
    "    print(r\"\\hline \\multicolumn{3}{|c|}{Oddział \" + str(oddzial) + r\"} \\\\ \\hline\")\n",
    "    helpe = helper.trzeci_akapit(wydzial_classes)\n",
    "    print(\"{} &{} &{} \\\\\\\\\".format(\"wspólnie\",helpe[1],helpe[2]))\n",
    "    for i in range(1992,1997):\n",
    "        #print(\"rok \" + str(i))\n",
    "        helpe = helper.trzeci_akapit(wydzial_classes, time_min= datetime.date(i,1,1), time_max=datetime.date(i,12,31))\n",
    "        print(\"{} &{} &{} \\\\\\\\\".format(str(i),helpe[1],helpe[2]))#wspólne"
   ]
  },
  {
   "cell_type": "code",
   "execution_count": null,
   "metadata": {},
   "outputs": [],
   "source": []
  },
  {
   "cell_type": "code",
   "execution_count": null,
   "metadata": {},
   "outputs": [],
   "source": []
  }
 ],
 "metadata": {
  "kernelspec": {
   "display_name": "Python 3",
   "language": "python",
   "name": "python3"
  },
  "language_info": {
   "codemirror_mode": {
    "name": "ipython",
    "version": 3
   },
   "file_extension": ".py",
   "mimetype": "text/x-python",
   "name": "python",
   "nbconvert_exporter": "python",
   "pygments_lexer": "ipython3",
   "version": "3.6.8"
  }
 },
 "nbformat": 4,
 "nbformat_minor": 2
}
