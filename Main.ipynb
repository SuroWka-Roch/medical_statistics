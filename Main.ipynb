{
 "cells": [
  {
   "cell_type": "code",
   "execution_count": 1,
   "metadata": {},
   "outputs": [],
   "source": [
    "import classes\n",
    "import time\n",
    "import datetime\n",
    "import pandas as pd\n",
    "from tqdm import tqdm\n",
    "\n",
    "\n",
    "#open import data as pandas dataframe\n",
    "patient_data = pd.read_csv(\"./data/PACJENT.TXT\",sep=\";\",header=0)\n",
    "test_data = pd.read_csv(\"./data/BADANIA2.TXT\",sep=\";\",header=0)\n",
    "bacteria_data = pd.read_csv(\"./data/DROBN.TXT\",sep=\";\",header=0)\n",
    "drag_sus_data = pd.read_csv(\"./data/LEKOWRAZ.TXT\",sep=\";\",header=0)"
   ]
  },
  {
   "cell_type": "code",
   "execution_count": 38,
   "metadata": {},
   "outputs": [
    {
     "name": "stdout",
     "output_type": "stream",
     "text": [
      "Number of unfiltered patient records: 6861\n",
      "Number of unfiltered tests records: 17198\n",
      "Number of unfiltered bacteria records: 15553\n",
      "Number of unfiltered sus records: 136286\n"
     ]
    }
   ],
   "source": [
    "print(\"Number of unfiltered patient records: \" +  str(len(patient_data)))\n",
    "print(\"Number of unfiltered tests records: \" +  str(len(test_data)))\n",
    "print(\"Number of unfiltered bacteria records: \" +  str(len(bacteria_data)))\n",
    "print(\"Number of unfiltered sus records: \" +  str(len(drag_sus_data)))"
   ]
  },
  {
   "cell_type": "code",
   "execution_count": 3,
   "metadata": {},
   "outputs": [
    {
     "name": "stdout",
     "output_type": "stream",
     "text": [
      "year 199200 is out of range\n",
      "bad value at line 1472\n",
      "invalid literal for int() with base 10: '1993:00:00'\n",
      "bad value at line 5849\n",
      "year 19930 is out of range\n",
      "bad value at line 5880\n",
      "year 19940 is out of range\n",
      "bad value at line 8777\n",
      "year 19940 is out of range\n",
      "bad value at line 10233\n",
      "invalid literal for int() with base 10: '19950:00:00'\n",
      "bad value at line 14552\n",
      "invalid literal for int() with base 10: '19950:00:00'\n",
      "bad value at line 14583\n"
     ]
    }
   ],
   "source": [
    "test_classes = []\n",
    "\n",
    "for index, data in test_data.iterrows():\n",
    "    try:\n",
    "        temp = classes.Test(data[\"badanie id\"], data[\"id pobytu\"], data[\"data\"], data[\"kod materialu\"])\n",
    "        if temp.is_date_between( datetime.date(1992,1,1), datetime.date(1996,3,31)):\n",
    "            test_classes.append(temp)\n",
    "        else:\n",
    "            pass\n",
    "            #print(\"date outside of range at line: \"+ str( index) )\n",
    "            #print(\"date: \" + str(temp.date) + \"\\n\")\n",
    "    except ValueError as e:\n",
    "        print(str(e))\n",
    "        print(\"bad value at line \" + str(index) )\n",
    "        continue "
   ]
  },
  {
   "cell_type": "code",
   "execution_count": 4,
   "metadata": {},
   "outputs": [
    {
     "name": "stdout",
     "output_type": "stream",
     "text": [
      "new test's lenght = 16995, delta = 203\n"
     ]
    }
   ],
   "source": [
    "delta = len(test_data) - len(test_classes)\n",
    "print(\"new test's lenght = {}, delta = {}\".format(len(test_classes), delta))\n",
    "    "
   ]
  },
  {
   "cell_type": "code",
   "execution_count": 5,
   "metadata": {},
   "outputs": [
    {
     "name": "stdout",
     "output_type": "stream",
     "text": [
      "same id at index: 726\n",
      "with id at: 725\n",
      "['oiom', 'neur']\n",
      "same id at index: 2225\n",
      "with id at: 2223\n",
      "['WEWN', 'nacz']\n",
      "same id at index: 3326\n",
      "with id at: 3323\n",
      "['nefr', 'szcz']\n",
      "same id at index: 3327\n",
      "with id at: 3323\n",
      "same id at index: 3670\n",
      "with id at: 3665\n",
      "['PLAS', 'urol']\n",
      "same id at index: 3872\n",
      "with id at: 3866\n",
      "['WEWN', 'nacz']\n",
      "same id at index: 3873\n",
      "with id at: 3866\n",
      "same id at index: 4185\n",
      "with id at: 4177\n",
      "['REUM', 'nefr']\n",
      "same id at index: 4916\n",
      "with id at: 4907\n",
      "['NEFR', 'nech']\n",
      "6852\n"
     ]
    }
   ],
   "source": [
    "patient_classes = []\n",
    "for index, data in patient_data.iterrows():\n",
    "    temp_class = classes.Patient(data[\"numer\"], data[\"sex\"], data[\"depName\"])\n",
    "    if temp_class.PatientId not in [klass.PatientId for klass in patient_classes]:\n",
    "        patient_classes.append(temp_class)\n",
    "    else:\n",
    "        print(\"same id at index: \" + str(index))\n",
    "        for i in range(len(patient_classes)):\n",
    "            if temp_class.PatientId == patient_classes[i].PatientId:\n",
    "                print(\"with id at: \" + str(i))\n",
    "                if temp_class.department[0] not in patient_classes[i].department:\n",
    "                    patient_classes[i].extend_department(temp_class)\n",
    "                    print(patient_classes[i].department)\n",
    "                    break\n",
    "print(len(patient_classes))"
   ]
  },
  {
   "cell_type": "code",
   "execution_count": 6,
   "metadata": {},
   "outputs": [
    {
     "name": "stdout",
     "output_type": "stream",
     "text": [
      "table lenght 6861\n",
      "classes array table len 6852\n",
      "dwa powtórzenia i 7 złączeń\n"
     ]
    }
   ],
   "source": [
    "print(\"table lenght {}\".format(len(patient_data)))\n",
    "print(\"classes array table len \" + str( patient_classes.__len__()) )\n",
    "print(\"dwa powtórzenia i 7 złączeń\")"
   ]
  },
  {
   "cell_type": "code",
   "execution_count": 7,
   "metadata": {},
   "outputs": [],
   "source": [
    "bacteria_classes = [classes.Bacteria(data[\"drobnoustroj id\"],\n",
    "                                           data[\"id badania\"],\n",
    "                                           data[\"kod drobnoustroju\"])\n",
    "                                                        for index, data in bacteria_data.iterrows()]\n",
    "drug_classes = [classes.DrugSusceptibility(data[\"id drobnoustroju\"],\n",
    "                                           data[\"kod leku\"],\n",
    "                                           data[\"opornosc\"])\n",
    "                                                        for index, data in drag_sus_data.iterrows()]"
   ]
  },
  {
   "cell_type": "code",
   "execution_count": 8,
   "metadata": {},
   "outputs": [],
   "source": [
    "table_of_test_id = [klass.testId for klass in test_classes]\n",
    "table_of_patient_id = [klass.PatientId for klass in patient_classes]"
   ]
  },
  {
   "cell_type": "code",
   "execution_count": 9,
   "metadata": {},
   "outputs": [
    {
     "name": "stdout",
     "output_type": "stream",
     "text": [
      "badania filtrowanie: długość przed 16995 długość po 16995 delta 0 \n",
      "bakteria filtrowanie: długość przed 15553 długość po 15421 delta 132 \n"
     ]
    }
   ],
   "source": [
    "to_remove = []\n",
    "for i in range(len(test_classes)):\n",
    "    if test_classes[i].PatientId not in table_of_patient_id:\n",
    "        to_remove.append(test_classes[i])\n",
    "        \n",
    "lenght_before = len(test_classes)\n",
    "for o in to_remove:\n",
    "    test_classes.remove(o)\n",
    "len_after = len(test_classes)\n",
    "print(\"badania filtrowanie: długość przed {} długość po {} delta {} \".format(lenght_before,len_after,lenght_before-len_after))\n",
    "    \n",
    "to_remove = []\n",
    "for i in range(len(bacteria_classes)):\n",
    "    if bacteria_classes[i].testId not in table_of_test_id:\n",
    "        to_remove.append(bacteria_classes[i])\n",
    "lenght_before = len(bacteria_classes)\n",
    "\n",
    "for o in to_remove:\n",
    "    bacteria_classes.remove(o)\n",
    "    \n",
    "len_after = len(bacteria_classes)\n",
    "print(\"bakteria filtrowanie: długość przed {} długość po {} delta {} \".format(lenght_before,len_after,lenght_before-len_after))"
   ]
  },
  {
   "cell_type": "code",
   "execution_count": 10,
   "metadata": {},
   "outputs": [
    {
     "name": "stdout",
     "output_type": "stream",
     "text": [
      "drug filtrowanie: długość przed 136286 długość po 135220 delta 1066 \n"
     ]
    }
   ],
   "source": [
    "to_remove = []\n",
    "\n",
    "table_of_bacteria_id = [klass.bacteriaId for klass in bacteria_classes]\n",
    "for i in range(len(drug_classes)):\n",
    "    if drug_classes[i].DrugId not in table_of_bacteria_id:\n",
    "        to_remove.append(drug_classes[i])\n",
    "        \n",
    "lenght_before = len(drug_classes)        \n",
    "\n",
    "for o in to_remove:\n",
    "    try:\n",
    "        drug_classes.remove(o)    \n",
    "    except ValueError as e:\n",
    "        print(str(e))\n",
    "len_after = len(drug_classes)\n",
    "print(\"drug filtrowanie: długość przed {} długość po {} delta {} \".format(lenght_before,len_after,lenght_before-len_after))"
   ]
  },
  {
   "cell_type": "code",
   "execution_count": null,
   "metadata": {},
   "outputs": [],
   "source": [
    "#budowanie drzewa zależności od antybiotyku w górę\n",
    "for drug in tqdm(drug_classes):\n",
    "    for i in range(len(bacteria_classes)):\n",
    "        if drug.DrugId == bacteria_classes[i].bacteriaId:\n",
    "            bacteria_classes[i].add_susceptibility(drug)\n",
    "            break"
   ]
  },
  {
   "cell_type": "code",
   "execution_count": 12,
   "metadata": {},
   "outputs": [
    {
     "name": "stdout",
     "output_type": "stream",
     "text": [
      "z badaniem 13505 bez 1916\n"
     ]
    }
   ],
   "source": [
    "bez_badania = 0\n",
    "z_badaniem = 0\n",
    "for bacteria in bacteria_classes:\n",
    "    if bacteria.DrugSusceptibility:\n",
    "        z_badaniem+=1\n",
    "    else:\n",
    "        bez_badania+=1\n",
    "print(\"z badaniem {} bez {}\".format(z_badaniem,bez_badania))"
   ]
  },
  {
   "cell_type": "code",
   "execution_count": 13,
   "metadata": {},
   "outputs": [
    {
     "name": "stderr",
     "output_type": "stream",
     "text": [
      "100%|██████████| 15421/15421 [01:12<00:00, 212.01it/s]\n"
     ]
    }
   ],
   "source": [
    "#bakterie do badania - help :(\n",
    "for bakteria in tqdm(bacteria_classes):\n",
    "    for i in range(len(test_classes)):\n",
    "        if bakteria.testId == test_classes[i].testId:\n",
    "            test_classes[i].add_bacteria(bakteria)\n",
    "            break"
   ]
  },
  {
   "cell_type": "code",
   "execution_count": 14,
   "metadata": {},
   "outputs": [
    {
     "name": "stdout",
     "output_type": "stream",
     "text": [
      "z badaniem 13505 bez 1916\n"
     ]
    }
   ],
   "source": [
    "bez_bakteri = 0\n",
    "z_bakterio = 0\n",
    "for test in test_classes:\n",
    "    if test.Bacteria:\n",
    "        z_bakterio+=1\n",
    "    else:\n",
    "        bez_bakteri+=1\n",
    "print(\"z bakterią {} bez {}\".format(z_badaniem,bez_badania))"
   ]
  },
  {
   "cell_type": "code",
   "execution_count": 27,
   "metadata": {},
   "outputs": [
    {
     "name": "stderr",
     "output_type": "stream",
     "text": [
      "100%|██████████| 16995/16995 [00:07<00:00, 2285.53it/s]\n"
     ]
    }
   ],
   "source": [
    "#badania do pacjętów - there is no god he left us all\n",
    "for test in tqdm(test_classes):\n",
    "    for i in range(len(patient_classes)):\n",
    "        if test.PatientId == patient_classes[i].PatientId:\n",
    "            patient_classes[i].add_test(test)\n",
    "            break"
   ]
  },
  {
   "cell_type": "code",
   "execution_count": 29,
   "metadata": {},
   "outputs": [
    {
     "name": "stdout",
     "output_type": "stream",
     "text": [
      "z badaniem 6746 bez 106\n"
     ]
    }
   ],
   "source": [
    "bez_badania= 0\n",
    "z_badaniem = 0\n",
    "for patient in patient_classes:\n",
    "    if patient.test:\n",
    "        z_badaniem+=1\n",
    "    else:\n",
    "        bez_badania+=1\n",
    "print(\"z badaniem {} bez {}\".format(z_badaniem,bez_badania))"
   ]
  },
  {
   "cell_type": "code",
   "execution_count": 46,
   "metadata": {},
   "outputs": [
    {
     "name": "stdout",
     "output_type": "stream",
     "text": [
      "0\n",
      "0\n",
      "0\n",
      "0\n",
      "0\n",
      "0\n",
      "0\n"
     ]
    }
   ],
   "source": [
    "temp = [klass for klass in  patient_classes if klass.test and klass.test[0].materialId == 120]\n",
    "#120 pochwa i z tego wychodzą same 0 czli 0-kob 1-mężcz"
   ]
  },
  {
   "cell_type": "code",
   "execution_count": null,
   "metadata": {},
   "outputs": [],
   "source": []
  }
 ],
 "metadata": {
  "kernelspec": {
   "display_name": "Python 3",
   "language": "python",
   "name": "python3"
  },
  "language_info": {
   "codemirror_mode": {
    "name": "ipython",
    "version": 3
   },
   "file_extension": ".py",
   "mimetype": "text/x-python",
   "name": "python",
   "nbconvert_exporter": "python",
   "pygments_lexer": "ipython3",
   "version": "3.6.8"
  }
 },
 "nbformat": 4,
 "nbformat_minor": 2
}
