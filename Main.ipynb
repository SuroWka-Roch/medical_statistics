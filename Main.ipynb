{
 "cells": [
  {
   "cell_type": "code",
   "execution_count": 2,
   "metadata": {},
   "outputs": [],
   "source": [
    "import classes\n",
    "import time\n",
    "import datetime\n",
    "import pandas as pd\n",
    "from tqdm import tqdm\n",
    "import numpy\n",
    "\n",
    "\n",
    "#open import data as pandas dataframe\n",
    "patient_data = pd.read_csv(\"./data/PACJENT.TXT\",sep=\";\",header=0)\n",
    "test_data = pd.read_csv(\"./data/BADANIA2.TXT\",sep=\";\",header=0)\n",
    "bacteria_data = pd.read_csv(\"./data/DROBN.TXT\",sep=\";\",header=0)\n",
    "drag_sus_data = pd.read_csv(\"./data/LEKOWRAZ.TXT\",sep=\";\",header=0)"
   ]
  },
  {
   "cell_type": "code",
   "execution_count": 3,
   "metadata": {},
   "outputs": [
    {
     "name": "stdout",
     "output_type": "stream",
     "text": [
      "Number of unfiltered patient records: 6861\n",
      "Number of unfiltered tests records: 17198\n",
      "Number of unfiltered bacteria records: 15553\n",
      "Number of unfiltered sus records: 136286\n"
     ]
    }
   ],
   "source": [
    "print(\"Number of unfiltered patient records: \" +  str(len(patient_data)))\n",
    "print(\"Number of unfiltered tests records: \" +  str(len(test_data)))\n",
    "print(\"Number of unfiltered bacteria records: \" +  str(len(bacteria_data)))\n",
    "print(\"Number of unfiltered sus records: \" +  str(len(drag_sus_data)))"
   ]
  },
  {
   "cell_type": "code",
   "execution_count": 4,
   "metadata": {},
   "outputs": [
    {
     "name": "stdout",
     "output_type": "stream",
     "text": [
      "year 199200 is out of range\n",
      "bad value at line 1472\n",
      "invalid literal for int() with base 10: '1993:00:00'\n",
      "bad value at line 5849\n",
      "year 19930 is out of range\n",
      "bad value at line 5880\n",
      "year 19940 is out of range\n",
      "bad value at line 8777\n",
      "year 19940 is out of range\n",
      "bad value at line 10233\n",
      "invalid literal for int() with base 10: '19950:00:00'\n",
      "bad value at line 14552\n",
      "invalid literal for int() with base 10: '19950:00:00'\n",
      "bad value at line 14583\n"
     ]
    }
   ],
   "source": [
    "test_classes = []\n",
    "\n",
    "for index, data in test_data.iterrows():\n",
    "    try:\n",
    "        temp = classes.Test(data[\"badanie id\"], data[\"id pobytu\"], data[\"data\"], data[\"kod materialu\"])\n",
    "        if temp.is_date_between( datetime.date(1992,1,1), datetime.date(1996,3,31)):\n",
    "            test_classes.append(temp)\n",
    "        else:\n",
    "            pass\n",
    "            #print(\"date outside of range at line: \"+ str( index) )\n",
    "            #print(\"date: \" + str(temp.date) + \"\\n\")\n",
    "    except ValueError as e:\n",
    "        print(str(e))\n",
    "        print(\"bad value at line \" + str(index) )\n",
    "        continue "
   ]
  },
  {
   "cell_type": "code",
   "execution_count": 5,
   "metadata": {},
   "outputs": [
    {
     "name": "stdout",
     "output_type": "stream",
     "text": [
      "new test's lenght = 16995, delta = 203\n"
     ]
    }
   ],
   "source": [
    "delta = len(test_data) - len(test_classes)\n",
    "print(\"new test's lenght = {}, delta = {}\".format(len(test_classes), delta))\n",
    "    "
   ]
  },
  {
   "cell_type": "code",
   "execution_count": 6,
   "metadata": {},
   "outputs": [
    {
     "name": "stdout",
     "output_type": "stream",
     "text": [
      "same id at index: 726\n",
      "with id at: 725\n",
      "['oiom', 'neur']\n",
      "same id at index: 2225\n",
      "with id at: 2223\n",
      "['WEWN', 'nacz']\n",
      "same id at index: 3326\n",
      "with id at: 3323\n",
      "['nefr', 'szcz']\n",
      "same id at index: 3327\n",
      "with id at: 3323\n",
      "same id at index: 3670\n",
      "with id at: 3665\n",
      "['PLAS', 'urol']\n",
      "same id at index: 3872\n",
      "with id at: 3866\n",
      "['WEWN', 'nacz']\n",
      "same id at index: 3873\n",
      "with id at: 3866\n",
      "same id at index: 4185\n",
      "with id at: 4177\n",
      "['REUM', 'nefr']\n",
      "same id at index: 4916\n",
      "with id at: 4907\n",
      "['NEFR', 'nech']\n",
      "6852\n"
     ]
    }
   ],
   "source": [
    "patient_classes = []\n",
    "for index, data in patient_data.iterrows():\n",
    "    temp_class = classes.Patient(data[\"numer\"], data[\"sex\"], data[\"depName\"])\n",
    "    if temp_class.PatientId not in [klass.PatientId for klass in patient_classes]:\n",
    "        patient_classes.append(temp_class)\n",
    "    else:\n",
    "        print(\"same id at index: \" + str(index))\n",
    "        for i in range(len(patient_classes)):\n",
    "            if temp_class.PatientId == patient_classes[i].PatientId:\n",
    "                print(\"with id at: \" + str(i))\n",
    "                if temp_class.department[0] not in patient_classes[i].department:\n",
    "                    patient_classes[i].extend_department(temp_class)\n",
    "                    print(patient_classes[i].department)\n",
    "                    break\n",
    "print(len(patient_classes))"
   ]
  },
  {
   "cell_type": "code",
   "execution_count": 7,
   "metadata": {},
   "outputs": [
    {
     "name": "stdout",
     "output_type": "stream",
     "text": [
      "table lenght 6861\n",
      "classes array table len 6852\n",
      "dwa powtórzenia i 7 złączeń\n"
     ]
    }
   ],
   "source": [
    "print(\"table lenght {}\".format(len(patient_data)))\n",
    "print(\"classes array table len \" + str( patient_classes.__len__()) )\n",
    "print(\"dwa powtórzenia i 7 złączeń\")"
   ]
  },
  {
   "cell_type": "code",
   "execution_count": 8,
   "metadata": {},
   "outputs": [],
   "source": [
    "bacteria_classes = [classes.Bacteria(data[\"drobnoustroj id\"],\n",
    "                                           data[\"id badania\"],\n",
    "                                           data[\"kod drobnoustroju\"])\n",
    "                                                        for index, data in bacteria_data.iterrows()]\n",
    "drug_classes = [classes.DrugSusceptibility(data[\"id drobnoustroju\"],\n",
    "                                           data[\"kod leku\"],\n",
    "                                           data[\"opornosc\"])\n",
    "                                                        for index, data in drag_sus_data.iterrows()]"
   ]
  },
  {
   "cell_type": "code",
   "execution_count": 9,
   "metadata": {},
   "outputs": [],
   "source": [
    "table_of_test_id = [klass.testId for klass in test_classes]\n",
    "table_of_patient_id = [klass.PatientId for klass in patient_classes]"
   ]
  },
  {
   "cell_type": "code",
   "execution_count": 10,
   "metadata": {},
   "outputs": [
    {
     "name": "stdout",
     "output_type": "stream",
     "text": [
      "badania filtrowanie: długość przed 16995 długość po 16995 delta 0 \n",
      "bakteria filtrowanie: długość przed 15553 długość po 15421 delta 132 \n"
     ]
    }
   ],
   "source": [
    "to_remove = []\n",
    "for i in range(len(test_classes)):\n",
    "    if test_classes[i].PatientId not in table_of_patient_id:\n",
    "        to_remove.append(test_classes[i])\n",
    "        \n",
    "lenght_before = len(test_classes)\n",
    "for o in to_remove:\n",
    "    test_classes.remove(o)\n",
    "len_after = len(test_classes)\n",
    "print(\"badania filtrowanie: długość przed {} długość po {} delta {} \".format(lenght_before,len_after,lenght_before-len_after))\n",
    "    \n",
    "to_remove = []\n",
    "for i in range(len(bacteria_classes)):\n",
    "    if bacteria_classes[i].testId not in table_of_test_id:\n",
    "        to_remove.append(bacteria_classes[i])\n",
    "lenght_before = len(bacteria_classes)\n",
    "\n",
    "for o in to_remove:\n",
    "    bacteria_classes.remove(o)\n",
    "    \n",
    "len_after = len(bacteria_classes)\n",
    "print(\"bakteria filtrowanie: długość przed {} długość po {} delta {} \".format(lenght_before,len_after,lenght_before-len_after))"
   ]
  },
  {
   "cell_type": "code",
   "execution_count": 11,
   "metadata": {},
   "outputs": [
    {
     "name": "stdout",
     "output_type": "stream",
     "text": [
      "drug filtrowanie: długość przed 136286 długość po 135220 delta 1066 \n"
     ]
    }
   ],
   "source": [
    "to_remove = []\n",
    "\n",
    "table_of_bacteria_id = [klass.bacteriaId for klass in bacteria_classes]\n",
    "for i in range(len(drug_classes)):\n",
    "    if drug_classes[i].DrugId not in table_of_bacteria_id:\n",
    "        to_remove.append(drug_classes[i])\n",
    "        \n",
    "lenght_before = len(drug_classes)        \n",
    "\n",
    "for o in to_remove:\n",
    "    try:\n",
    "        drug_classes.remove(o)    \n",
    "    except ValueError as e:\n",
    "        print(str(e))\n",
    "len_after = len(drug_classes)\n",
    "print(\"drug filtrowanie: długość przed {} długość po {} delta {} \".format(lenght_before,len_after,lenght_before-len_after))"
   ]
  },
  {
   "cell_type": "code",
   "execution_count": 12,
   "metadata": {},
   "outputs": [
    {
     "name": "stderr",
     "output_type": "stream",
     "text": [
      "100%|██████████| 135220/135220 [04:15<00:00, 529.97it/s]\n"
     ]
    }
   ],
   "source": [
    "#budowanie drzewa zależności od antybiotyku w górę\n",
    "for drug in tqdm(drug_classes):\n",
    "    for i in range(len(bacteria_classes)):\n",
    "        if drug.DrugId == bacteria_classes[i].bacteriaId:\n",
    "            bacteria_classes[i].add_susceptibility(drug)\n",
    "            break"
   ]
  },
  {
   "cell_type": "code",
   "execution_count": 13,
   "metadata": {},
   "outputs": [
    {
     "name": "stdout",
     "output_type": "stream",
     "text": [
      "z badaniem 13505 bez 1916\n"
     ]
    }
   ],
   "source": [
    "bez_badania = 0\n",
    "z_badaniem = 0\n",
    "for bacteria in bacteria_classes:\n",
    "    if bacteria.DrugSusceptibility:\n",
    "        z_badaniem+=1\n",
    "    else:\n",
    "        bez_badania+=1\n",
    "print(\"z badaniem {} bez {}\".format(z_badaniem,bez_badania))"
   ]
  },
  {
   "cell_type": "code",
   "execution_count": 14,
   "metadata": {},
   "outputs": [
    {
     "name": "stderr",
     "output_type": "stream",
     "text": [
      "100%|██████████| 15421/15421 [00:57<00:00, 266.22it/s]\n"
     ]
    }
   ],
   "source": [
    "#bakterie do badania - help :(\n",
    "for bakteria in tqdm(bacteria_classes):\n",
    "    for i in range(len(test_classes)):\n",
    "        if bakteria.testId == test_classes[i].testId:\n",
    "            test_classes[i].add_bacteria(bakteria)\n",
    "            break"
   ]
  },
  {
   "cell_type": "code",
   "execution_count": 15,
   "metadata": {},
   "outputs": [
    {
     "name": "stdout",
     "output_type": "stream",
     "text": [
      "z bakterią 13505 bez 1916\n"
     ]
    }
   ],
   "source": [
    "bez_bakteri = 0\n",
    "z_bakterio = 0\n",
    "for test in test_classes:\n",
    "    if test.Bacteria:\n",
    "        z_bakterio+=1\n",
    "    else:\n",
    "        bez_bakteri+=1\n",
    "print(\"z bakterią {} bez {}\".format(z_badaniem,bez_badania))"
   ]
  },
  {
   "cell_type": "code",
   "execution_count": 16,
   "metadata": {},
   "outputs": [
    {
     "name": "stderr",
     "output_type": "stream",
     "text": [
      "100%|██████████| 16995/16995 [00:08<00:00, 1918.27it/s]\n"
     ]
    }
   ],
   "source": [
    "#badania do pacjętów - there is no god he left us all\n",
    "for test in tqdm(test_classes):\n",
    "    for i in range(len(patient_classes)):\n",
    "        if test.PatientId == patient_classes[i].PatientId:\n",
    "            patient_classes[i].add_test(test)\n",
    "            break"
   ]
  },
  {
   "cell_type": "code",
   "execution_count": 17,
   "metadata": {},
   "outputs": [
    {
     "name": "stdout",
     "output_type": "stream",
     "text": [
      "z badaniem 6746 bez 106\n"
     ]
    }
   ],
   "source": [
    "bez_badania= 0\n",
    "z_badaniem = 0\n",
    "for patient in patient_classes:\n",
    "    if patient.test:\n",
    "        z_badaniem+=1\n",
    "    else:\n",
    "        bez_badania+=1\n",
    "print(\"z badaniem {} bez {}\".format(z_badaniem,bez_badania))"
   ]
  },
  {
   "cell_type": "code",
   "execution_count": 18,
   "metadata": {},
   "outputs": [],
   "source": [
    "temp = [klass for klass in  patient_classes if klass.test and klass.test[0].materialId == 120]\n",
    "#120 pochwa i z tego wychodzą same 0 czli 0-kob 1-mężcz"
   ]
  },
  {
   "cell_type": "code",
   "execution_count": 19,
   "metadata": {},
   "outputs": [
    {
     "data": {
      "text/plain": [
       "41"
      ]
     },
     "execution_count": 19,
     "metadata": {},
     "output_type": "execute_result"
    }
   ],
   "source": [
    "#ile materiałów testowano\n",
    "len(test_data[\"kod materialu\"].drop_duplicates())"
   ]
  },
  {
   "cell_type": "code",
   "execution_count": 20,
   "metadata": {},
   "outputs": [
    {
     "data": {
      "text/plain": [
       "178"
      ]
     },
     "execution_count": 20,
     "metadata": {},
     "output_type": "execute_result"
    }
   ],
   "source": [
    "#ile drobnoustrojów wykryto\n",
    "len(bacteria_data[\"kod drobnoustroju\"].drop_duplicates() )"
   ]
  },
  {
   "cell_type": "code",
   "execution_count": 21,
   "metadata": {},
   "outputs": [
    {
     "data": {
      "text/plain": [
       "75"
      ]
     },
     "execution_count": 21,
     "metadata": {},
     "output_type": "execute_result"
    }
   ],
   "source": [
    "#ile leków testowano\n",
    "len( drag_sus_data[\"kod leku\"].drop_duplicates() )"
   ]
  },
  {
   "cell_type": "code",
   "execution_count": 29,
   "metadata": {},
   "outputs": [
    {
     "data": {
      "text/plain": [
       "<module 'helper' from '/home/piernik/programing/python/jupiter/helper.py'>"
      ]
     },
     "execution_count": 29,
     "metadata": {},
     "output_type": "execute_result"
    }
   ],
   "source": [
    "import importlib\n",
    "import helper\n",
    "\n",
    "\n",
    "importlib.reload(helper)"
   ]
  },
  {
   "cell_type": "code",
   "execution_count": 30,
   "metadata": {},
   "outputs": [
    {
     "data": {
      "text/plain": [
       "(5108, 2981, 2328)"
      ]
     },
     "execution_count": 30,
     "metadata": {},
     "output_type": "execute_result"
    }
   ],
   "source": [
    "helper.drugi_akapit(patient_classes,time_max=datetime.date(100,1,1))\n",
    "helper.trzeci_akapit(patient_classes,time_max=datetime.date(1993,1,1))"
   ]
  },
  {
   "cell_type": "code",
   "execution_count": 31,
   "metadata": {},
   "outputs": [
    {
     "name": "stdout",
     "output_type": "stream",
     "text": [
      "wszystkie lata\n",
      "(6746, 6746, 5189)\n",
      "(3165, 3165, 2428)\n",
      "(3581, 3581, 2761)\n",
      "co rok\n",
      "rok 1992\n",
      "(2150, 2150, 1599)\n",
      "(958, 958, 698)\n",
      "(1192, 1192, 901)\n",
      "rok 1993\n",
      "(1367, 1367, 1282)\n",
      "(690, 690, 630)\n",
      "(677, 677, 652)\n",
      "rok 1994\n",
      "(1350, 1350, 1173)\n",
      "(646, 646, 563)\n",
      "(704, 704, 610)\n",
      "rok 1995\n",
      "(1864, 1864, 1254)\n",
      "(888, 888, 613)\n",
      "(976, 976, 641)\n",
      "rok 1996\n",
      "(559, 559, 405)\n",
      "(258, 258, 191)\n",
      "(301, 301, 214)\n"
     ]
    }
   ],
   "source": [
    "kobiety = [klass for klass in patient_classes if klass.sex == 0]\n",
    "chłopy = [klass for klass in patient_classes if klass.sex == 1]\n",
    "\n",
    "#drugi akapitp\n",
    "print(\"wszystkie lata\")\n",
    "print( helper.drugi_akapit(patient_classes) ) #wspólne\n",
    "print( helper.drugi_akapit(kobiety) )\n",
    "print( helper.drugi_akapit(chłopy) )\n",
    "\n",
    "print(\"co rok\")\n",
    "for i in range(1992,1997):\n",
    "    print(\"rok \" + str(i))\n",
    "    print( helper.drugi_akapit(patient_classes, time_min= datetime.date(i,1,1), time_max=datetime.date(i,12,31))) #wspólne\n",
    "    print( helper.drugi_akapit(kobiety,time_min= datetime.date(i,1,1), time_max=datetime.date(i,12,31) ))\n",
    "    print( helper.drugi_akapit(chłopy,time_min= datetime.date(i,1,1), time_max=datetime.date(i,12,31) ))"
   ]
  },
  {
   "cell_type": "code",
   "execution_count": 32,
   "metadata": {},
   "outputs": [
    {
     "name": "stdout",
     "output_type": "stream",
     "text": [
      "we have 8 fields without department names\n"
     ]
    }
   ],
   "source": [
    "import collections\n",
    "collections.Counter(patient_data[\"depName\"].values)\n",
    "\n",
    "print(\"we have 8 fields without department names\")"
   ]
  },
  {
   "cell_type": "code",
   "execution_count": 33,
   "metadata": {},
   "outputs": [
    {
     "data": {
      "text/plain": [
       "['OIOM',\n",
       " 'NACZ',\n",
       " 'URAZ',\n",
       " 'WEWN',\n",
       " 'CHIR',\n",
       " 'REUM',\n",
       " 'NEFR',\n",
       " 'UROL',\n",
       " 'NECH',\n",
       " 'NEUR',\n",
       " 'USPR',\n",
       " 'PLAS',\n",
       " 'OKUL',\n",
       " 'LARY',\n",
       " 'SZCZ']"
      ]
     },
     "execution_count": 33,
     "metadata": {},
     "output_type": "execute_result"
    }
   ],
   "source": [
    "oddzial_list = list( patient_data[\"depName\"].drop_duplicates().values)\n",
    "\n",
    "oddzial_list.remove(numpy.nan)\n",
    "\n",
    "oddzial_list = pd.DataFrame ([a.upper() for a in oddzial_list]).drop_duplicates()\n",
    "\n",
    "oddzial_list = list(oddzial_list[0])\n",
    "\n",
    "oddzial_list\n",
    "\n"
   ]
  },
  {
   "cell_type": "code",
   "execution_count": 34,
   "metadata": {},
   "outputs": [],
   "source": [
    "#przenieś wszystkie departmenty na all caps\n",
    "for i in range(len(patient_classes)):\n",
    "    for j in range(len(patient_classes[i].department)):\n",
    "        try:\n",
    "            patient_classes[i].department[j]=patient_classes[i].department[j].upper()\n",
    "        except AttributeError as e:\n",
    "            pass"
   ]
  },
  {
   "cell_type": "code",
   "execution_count": 50,
   "metadata": {},
   "outputs": [
    {
     "name": "stdout",
     "output_type": "stream",
     "text": [
      "wszystkie lata\n",
      "(16995, 10675, 9269)\n",
      "Wspólnie &16995 &10675& 9269 \\\\\n",
      "Mężczyźni &10295 &6377& 5657 \\\\\n",
      "Kobiety &6700 &4298& 3612 \\\\\n",
      "\n",
      "\n",
      "\n",
      "\\multicolumn{4}{|c|}{Wspólnie} \\\\\n",
      "1992 &5106 &2980& 2327 \\\\ \\hline\n",
      "1993 &3097 &2312& 1992 \\\\ \\hline\n",
      "1994 &3186 &2250& 2120 \\\\ \\hline\n",
      "1995 &4346 &2386& 2126 \\\\ \\hline\n",
      "1996 &1260 &747& 704 \\\\ \\hline\n",
      "\n",
      "\n",
      "\\multicolumn{4}{|c|}{Mężczyźni} \\\\\n",
      "1992 &3243 &1904& 1531 \\\\ \\hline\n",
      "1993 &1885 &1387& 1261 \\\\ \\hline\n",
      "1994 &1932 &1328& 1257 \\\\ \\hline\n",
      "1995 &2534 &1362& 1237 \\\\ \\hline\n",
      "1996 &701 &396& 371 \\\\ \\hline\n",
      "\n",
      "\n",
      "\\multicolumn{4}{|c|}{Kobiety} \\\\\n",
      "1992 &1863 &1076& 796 \\\\ \\hline\n",
      "1993 &1212 &925& 731 \\\\ \\hline\n",
      "1994 &1254 &922& 863 \\\\ \\hline\n",
      "1995 &1812 &1024& 889 \\\\ \\hline\n",
      "1996 &559 &351& 333 \\\\ \\hline\n",
      "\n",
      "\n",
      "\\hline \\multicolumn{3}{|c|}{Oddział OIOM} \\\\ \\hline\n",
      "wspólnie &3720 &3546 \\\\\n",
      "1992 &958 &893 \\\\\n",
      "1993 &823 &785 \\\\\n",
      "1994 &878 &843 \\\\\n",
      "1995 &808 &778 \\\\\n",
      "1996 &253 &247 \\\\\n",
      "\\hline \\multicolumn{3}{|c|}{Oddział NACZ} \\\\ \\hline\n",
      "wspólnie &327 &304 \\\\\n",
      "1992 &115 &99 \\\\\n",
      "1993 &100 &97 \\\\\n",
      "1994 &50 &50 \\\\\n",
      "1995 &53 &49 \\\\\n",
      "1996 &9 &9 \\\\\n",
      "\\hline \\multicolumn{3}{|c|}{Oddział URAZ} \\\\ \\hline\n",
      "wspólnie &761 &683 \\\\\n",
      "1992 &176 &139 \\\\\n",
      "1993 &154 &144 \\\\\n",
      "1994 &184 &174 \\\\\n",
      "1995 &194 &176 \\\\\n",
      "1996 &53 &50 \\\\\n",
      "\\hline \\multicolumn{3}{|c|}{Oddział WEWN} \\\\ \\hline\n",
      "wspólnie &943 &623 \\\\\n",
      "1992 &423 &232 \\\\\n",
      "1993 &159 &108 \\\\\n",
      "1994 &132 &118 \\\\\n",
      "1995 &181 &127 \\\\\n",
      "1996 &48 &38 \\\\\n",
      "\\hline \\multicolumn{3}{|c|}{Oddział CHIR} \\\\ \\hline\n",
      "wspólnie &463 &422 \\\\\n",
      "1992 &122 &107 \\\\\n",
      "1993 &76 &74 \\\\\n",
      "1994 &104 &100 \\\\\n",
      "1995 &117 &100 \\\\\n",
      "1996 &44 &41 \\\\\n",
      "\\hline \\multicolumn{3}{|c|}{Oddział REUM} \\\\ \\hline\n",
      "wspólnie &499 &372 \\\\\n",
      "1992 &124 &73 \\\\\n",
      "1993 &131 &88 \\\\\n",
      "1994 &116 &107 \\\\\n",
      "1995 &97 &78 \\\\\n",
      "1996 &31 &26 \\\\\n",
      "\\hline \\multicolumn{3}{|c|}{Oddział NEFR} \\\\ \\hline\n",
      "wspólnie &1100 &789 \\\\\n",
      "1992 &240 &125 \\\\\n",
      "1993 &258 &151 \\\\\n",
      "1994 &221 &193 \\\\\n",
      "1995 &296 &241 \\\\\n",
      "1996 &85 &79 \\\\\n",
      "\\hline \\multicolumn{3}{|c|}{Oddział UROL} \\\\ \\hline\n",
      "wspólnie &384 &320 \\\\\n",
      "1992 &108 &83 \\\\\n",
      "1993 &110 &87 \\\\\n",
      "1994 &63 &59 \\\\\n",
      "1995 &75 &65 \\\\\n",
      "1996 &28 &26 \\\\\n",
      "\\hline \\multicolumn{3}{|c|}{Oddział NECH} \\\\ \\hline\n",
      "wspólnie &413 &390 \\\\\n",
      "1992 &109 &98 \\\\\n",
      "1993 &101 &97 \\\\\n",
      "1994 &90 &89 \\\\\n",
      "1995 &80 &75 \\\\\n",
      "1996 &33 &31 \\\\\n",
      "\\hline \\multicolumn{3}{|c|}{Oddział NEUR} \\\\ \\hline\n",
      "wspólnie &451 &392 \\\\\n",
      "1992 &167 &133 \\\\\n",
      "1993 &124 &119 \\\\\n",
      "1994 &71 &68 \\\\\n",
      "1995 &68 &53 \\\\\n",
      "1996 &21 &19 \\\\\n",
      "\\hline \\multicolumn{3}{|c|}{Oddział USPR} \\\\ \\hline\n",
      "wspólnie &579 &555 \\\\\n",
      "1992 &113 &103 \\\\\n",
      "1993 &74 &70 \\\\\n",
      "1994 &146 &139 \\\\\n",
      "1995 &175 &174 \\\\\n",
      "1996 &71 &69 \\\\\n",
      "\\hline \\multicolumn{3}{|c|}{Oddział PLAS} \\\\ \\hline\n",
      "wspólnie &322 &286 \\\\\n",
      "1992 &110 &95 \\\\\n",
      "1993 &72 &66 \\\\\n",
      "1994 &53 &51 \\\\\n",
      "1995 &71 &59 \\\\\n",
      "1996 &16 &15 \\\\\n",
      "\\hline \\multicolumn{3}{|c|}{Oddział OKUL} \\\\ \\hline\n",
      "wspólnie &130 &101 \\\\\n",
      "1992 &28 &17 \\\\\n",
      "1993 &17 &10 \\\\\n",
      "1994 &17 &14 \\\\\n",
      "1995 &47 &40 \\\\\n",
      "1996 &21 &20 \\\\\n",
      "\\hline \\multicolumn{3}{|c|}{Oddział LARY} \\\\ \\hline\n",
      "wspólnie &485 &407 \\\\\n",
      "1992 &172 &122 \\\\\n",
      "1993 &93 &80 \\\\\n",
      "1994 &100 &93 \\\\\n",
      "1995 &92 &84 \\\\\n",
      "1996 &28 &28 \\\\\n",
      "\\hline \\multicolumn{3}{|c|}{Oddział SZCZ} \\\\ \\hline\n",
      "wspólnie &115 &95 \\\\\n",
      "1992 &24 &17 \\\\\n",
      "1993 &24 &20 \\\\\n",
      "1994 &29 &25 \\\\\n",
      "1995 &32 &27 \\\\\n",
      "1996 &6 &6 \\\\\n"
     ]
    }
   ],
   "source": [
    "#trzeci akapit\n",
    "print(\"wszystkie lata\")\n",
    "print( helper.trzeci_akapit(patient_classes) ) #wspólne\n",
    "\n",
    "helpe = helper.trzeci_akapit(patient_classes, time_min= datetime.date(200,1,1), time_max=datetime.date(2100,12,31))\n",
    "print(\"{} &{} &{}& {} \\\\\\\\\".format(\"Wspólnie\",helpe[0],helpe[1],helpe[2]))  \n",
    "helpe = helper.trzeci_akapit(chłopy, time_min= datetime.date(200,1,1), time_max=datetime.date(2100,12,31))\n",
    "print(\"{} &{} &{}& {} \\\\\\\\\".format(\"Mężczyźni\",helpe[0],helpe[1],helpe[2]))\n",
    "helpe = helper.trzeci_akapit(kobiety, time_min= datetime.date(200,1,1), time_max=datetime.date(2100,12,31))\n",
    "print(\"{} &{} &{}& {} \\\\\\\\\".format(\"Kobiety\",helpe[0],helpe[1],helpe[2]))\n",
    "print(\"\\n\\n\")\n",
    "\n",
    "print(r\"\\multicolumn{4}{|c|}{Wspólnie} \\\\\")\n",
    "for i in range(1992,1997):\n",
    "    helpe = helper.trzeci_akapit(patient_classes, time_min= datetime.date(i,1,1), time_max=datetime.date(i,12,31))\n",
    "    print(\"{} &{} &{}& {} \\\\\\\\ \\\\hline\".format(str(i),helpe[0],helpe[1],helpe[2]))  #wspólne\n",
    "print( \"\\n\") \n",
    "\n",
    "print(r\"\\multicolumn{4}{|c|}{Mężczyźni} \\\\\")\n",
    "for i in range(1992,1997):\n",
    "    helpe = helper.trzeci_akapit(chłopy, time_min= datetime.date(i,1,1), time_max=datetime.date(i,12,31))\n",
    "    print(\"{} &{} &{}& {} \\\\\\\\ \\\\hline\".format(str(i),helpe[0],helpe[1],helpe[2]))  #wspólne\n",
    "print( \"\\n\")\n",
    "\n",
    "print(r\"\\multicolumn{4}{|c|}{Kobiety} \\\\\")\n",
    "for i in range(1992,1997):\n",
    "    helpe = helper.trzeci_akapit(kobiety, time_min= datetime.date(i,1,1), time_max=datetime.date(i,12,31))\n",
    "    print(\"{} &{} &{}& {} \\\\\\\\ \\\\hline\".format(str(i),helpe[0],helpe[1],helpe[2]))  #wspólne\n",
    "print( \"\\n\")\n",
    "\n",
    "for oddzial in oddzial_list:\n",
    "    \n",
    "    wydzial_classes = [klass for klass in  patient_classes if oddzial in  klass.department ]\n",
    "    print(r\"\\hline \\multicolumn{3}{|c|}{Oddział \" + str(oddzial) + r\"} \\\\ \\hline\")\n",
    "    helpe = helper.trzeci_akapit(wydzial_classes)\n",
    "    print(\"{} &{} &{} \\\\\\\\\".format(\"wspólnie\",helpe[1],helpe[2]))\n",
    "    for i in range(1992,1997):\n",
    "        #print(\"rok \" + str(i))\n",
    "        helpe = helper.trzeci_akapit(wydzial_classes, time_min= datetime.date(i,1,1), time_max=datetime.date(i,12,31))\n",
    "        print(\"{} &{} &{} \\\\\\\\\".format(str(i),helpe[1],helpe[2]))#wspólne"
   ]
  },
  {
   "cell_type": "code",
   "execution_count": 28,
   "metadata": {},
   "outputs": [
    {
     "name": "stdout",
     "output_type": "stream",
     "text": [
      "Wspólnie &0 &0 &0\\\\ \\hline\n",
      "Mężczyźni &0 &0 &0\\\\ \\hline\n",
      "Kobiety &0 &0 &0\\\\ \\hline\n",
      "\n",
      "\n",
      "\n",
      "\\multicolumn{4}{|c|}{Wspólnie} \\\\ \\hline\n",
      "1992 &0 &0 &0\\\\ \\hline\n",
      "1993 &0 &0 &0\\\\ \\hline\n",
      "1994 &0 &0 &0\\\\ \\hline\n",
      "1995 &0 &0 &0\\\\ \\hline\n",
      "1996 &0 &0 &0\\\\ \\hline\n",
      "\n",
      "\n",
      "\n",
      "\\multicolumn{4}{|c|}{Mężczyźni} \\\\ \\hline\n",
      "1992 &0 &0 &0\\\\ \\hline\n",
      "1993 &0 &0 &0\\\\ \\hline\n",
      "1994 &0 &0 &0\\\\ \\hline\n",
      "1995 &0 &0 &0\\\\ \\hline\n",
      "1996 &0 &0 &0\\\\ \\hline\n",
      "\n",
      "\n",
      "\n",
      "\\multicolumn{4}{|c|}{Kobiety} \\\\ \\hline\n",
      "1992 &0 &0 &0\\\\ \\hline\n",
      "1993 &0 &0 &0\\\\ \\hline\n",
      "1994 &0 &0 &0\\\\ \\hline\n",
      "1995 &0 &0 &0\\\\ \\hline\n",
      "1996 &0 &0 &0\\\\ \\hline\n",
      "\n",
      "\n",
      "\n"
     ]
    }
   ],
   "source": [
    "#pierwszy grupowego\n",
    "importlib.reload(helper)\n",
    "\n",
    "helpe = helper.grup1(patient_classes)\n",
    "print(\"{} &{} &{} &{}\\\\\\\\ \\\\hline\".format(str(\"Wspólnie\"),helpe[0],helpe[1],helpe[2]))  #wspólne\n",
    "helpe = helper.grup1(chłopy)\n",
    "print(\"{} &{} &{} &{}\\\\\\\\ \\\\hline\".format(str(\"Mężczyźni\"),helpe[0],helpe[1],helpe[2]))  #wspólne\n",
    "helpe = helper.grup1(kobiety)\n",
    "print(\"{} &{} &{} &{}\\\\\\\\ \\\\hline\".format(str(\"Kobiety\"),helpe[0],helpe[1],helpe[2]))  #wspólne\n",
    "\n",
    "\n",
    "print(\"\\n\\n\")\n",
    "print(r\"\\multicolumn{4}{|c|}{Wspólnie} \\\\ \\hline\")\n",
    "for i in range(1992,1997):\n",
    "    #print(r\"\\multicolumn{3}{|c|}{Rok \" + str(rok) + \"}\")\n",
    "    helpe = helper.grup1(patient_classes, time_min= datetime.date(i,1,1), time_max=datetime.date(i,12,31))\n",
    "    print(\"{} &{} &{} &{}\\\\\\\\ \\\\hline\".format(str(i),helpe[0],helpe[1],helpe[2]))  #wspólne\n",
    "print( \"\\n\\n\")\n",
    "\n",
    "print(r\"\\multicolumn{4}{|c|}{Mężczyźni} \\\\ \\hline\")\n",
    "for i in range(1992,1997):\n",
    "    #print(r\"\\multicolumn{3}{|c|}{Rok \" + str(rok) + \"}\")\n",
    "    helpe = helper.grup1(chłopy, time_min= datetime.date(i,1,1), time_max=datetime.date(i,12,31))\n",
    "    print(\"{} &{} &{} &{}\\\\\\\\ \\\\hline\".format(str(i),helpe[0],helpe[1],helpe[2]))  #wspólne\n",
    "print( \"\\n\\n\")\n",
    "\n",
    "print(r\"\\multicolumn{4}{|c|}{Kobiety} \\\\ \\hline\")\n",
    "for i in range(1992,1997):\n",
    "    #print(r\"\\multicolumn{3}{|c|}{Rok \" + str(rok) + \"}\")\n",
    "    helpe = helper.grup1(kobiety, time_min= datetime.date(i,1,1), time_max=datetime.date(i,12,31))\n",
    "    print(\"{} &{} &{} &{}\\\\\\\\ \\\\hline\".format(str(i),helpe[0],helpe[1],helpe[2]))  #wspólne\n",
    "print( \"\\n\\n\")"
   ]
  },
  {
   "cell_type": "code",
   "execution_count": 29,
   "metadata": {},
   "outputs": [
    {
     "name": "stdout",
     "output_type": "stream",
     "text": [
      "\\item OIOM:0\n",
      "\\item NACZ:0\n",
      "\\item URAZ:0\n",
      "\\item WEWN:0\n",
      "\\item CHIR:0\n",
      "\\item REUM:0\n",
      "\\item NEFR:0\n",
      "\\item UROL:0\n",
      "\\item NECH:0\n",
      "\\item NEUR:0\n",
      "\\item USPR:0\n",
      "\\item PLAS:0\n",
      "\\item OKUL:0\n",
      "\\item LARY:0\n",
      "\\item SZCZ:0\n",
      "\n",
      "\n",
      "\n",
      "1992 &0 &0 &0\\\\ \\hline\n",
      "1993 &0 &0 &0\\\\ \\hline\n",
      "1994 &0 &0 &0\\\\ \\hline\n",
      "1995 &0 &0 &0\\\\ \\hline\n",
      "1996 &0 &0 &0\\\\ \\hline\n",
      "\n",
      "\n",
      "\n"
     ]
    }
   ],
   "source": [
    "# Drógi punkt\n",
    "nefr_classes = [klass for klass in  patient_classes if \"NEFR\" in  klass.department ]\n",
    "nefr_kob_classes = [klass for klass in nefr_classes if klass.sex == 0 ]\n",
    "nefr_chł_classes = [klass for klass in nefr_classes if klass.sex == 1 ]\n",
    "\n",
    "\n",
    "for oddzial in oddzial_list:\n",
    "    wydzial_classes = [klass for klass in  patient_classes if oddzial in  klass.department ]\n",
    "    temp = helper.grup1(wydzial_classes)\n",
    "    print(\"\\\\item {}:{}\".format(oddzial,temp[0]))\n",
    "print( \"\\n\\n\")    \n",
    "\n",
    "for i in range(1992,1997):\n",
    "    #print(r\"\\multicolumn{3}{|c|}{Rok \" + str(rok) + \"}\")\n",
    "    tmp_wsz = helper.grup1(nefr_classes, time_min= datetime.date(i,1,1), time_max=datetime.date(i,12,31))\n",
    "    tmp_kob = helper.grup1(nefr_kob_classes, time_min= datetime.date(i,1,1), time_max=datetime.date(i,12,31))\n",
    "    tmp_chł = helper.grup1(nefr_chł_classes, time_min= datetime.date(i,1,1), time_max=datetime.date(i,12,31))\n",
    "    \n",
    "    print(\"{} &{} &{} &{}\\\\\\\\ \\\\hline\".format(str(i),tmp_wsz[0],tmp_kob[0],tmp_chł[0]))  #wspólne\n",
    "print( \"\\n\\n\")"
   ]
  },
  {
   "cell_type": "code",
   "execution_count": 30,
   "metadata": {
    "scrolled": true
   },
   "outputs": [
    {
     "name": "stdout",
     "output_type": "stream",
     "text": [
      "18:1115\n",
      "1:432\n",
      "327:332\n",
      "100:294\n",
      "202:285\n",
      "500:268\n",
      "35:187\n",
      "65:165\n",
      "394:106\n",
      "33:86\n",
      "660:83\n",
      "40:76\n",
      "141:71\n",
      "140:64\n",
      "48:60\n",
      "521:50\n",
      "200:49\n",
      "62:46\n",
      "203:33\n",
      "55:32\n",
      "41:29\n",
      "38:28\n",
      "5:25\n",
      "4:24\n",
      "3:23\n",
      "541:22\n",
      "34:21\n",
      "301:19\n",
      "145:17\n",
      "309:15\n",
      "66:15\n",
      "72:15\n",
      "6:13\n",
      "507:9\n",
      "102:8\n",
      "518:8\n",
      "118:7\n",
      "399:6\n",
      "396:6\n",
      "317:5\n",
      "50:5\n",
      "2:5\n",
      "105:5\n",
      "207:5\n",
      "51:4\n",
      "599:4\n",
      "328:4\n",
      "520:3\n",
      "300:3\n",
      "659:3\n",
      "398:3\n",
      "36:2\n",
      "142:2\n",
      "129:2\n",
      "64:2\n",
      "330:2\n",
      "99:2\n",
      "121:2\n",
      "505:2\n",
      "39:1\n",
      "124:1\n",
      "222:1\n",
      "156:1\n",
      "655:1\n",
      "218:1\n",
      "699:1\n",
      "666:1\n",
      "63:1\n",
      "213:1\n",
      "69:1\n",
      "395:1\n",
      "17:1\n",
      "527:1\n",
      "670:1\n",
      "112:1\n",
      "219:1\n",
      "210:1\n",
      "154:1\n",
      "215:1\n",
      "21:1\n",
      "426:1\n",
      "427:1\n",
      "37:1\n",
      "135:1\n",
      "503:1\n",
      "310:1\n",
      "120:1\n"
     ]
    }
   ],
   "source": [
    "#trzecie grupowe\n",
    "importlib.reload(helper)\n",
    "\n",
    "#sorted( dicte )\n",
    "\n",
    "dicte = helper.grup3(patient_classes)\n",
    "tab = sorted( dicte,key=lambda a:dicte[a],reverse=True )\n",
    "\n",
    "for i in tab:\n",
    "    print(\"{}:{}\".format(i,dicte[i]))"
   ]
  },
  {
   "cell_type": "code",
   "execution_count": 31,
   "metadata": {},
   "outputs": [],
   "source": [
    "#18 cola \n",
    "def bakt(nr):\n",
    "    print(\"\\\\hline Rok &Wspólnie & Kobiety & Mężczyźni \\\\\\\\ \\\\hline\")\n",
    "    tmp_wsz = helper.grup3_2(patient_classes,nr)\n",
    "    tmp_kob = helper.grup3_2(kobiety,nr)\n",
    "    tmp_chł = helper.grup3_2(chłopy,nr)\n",
    "    print(\"Każdy& {}& {}& {} \\\\\\\\ \\\\hline \".format(tmp_wsz,tmp_kob,tmp_chł))\n",
    "    \n",
    "    for i in range(1992,1997):\n",
    "        tmp_wsz = helper.grup3_2(patient_classes,nr, time_min= datetime.date(i,1,1), time_max=datetime.date(i,12,31))\n",
    "        tmp_kob = helper.grup3_2(kobiety,nr , time_min= datetime.date(i,1,1), time_max=datetime.date(i,12,31))\n",
    "        tmp_chł = helper.grup3_2(chłopy,nr, time_min= datetime.date(i,1,1), time_max=datetime.date(i,12,31))\n",
    "        print(\"{}& {}& {}& {} \\\\\\\\ \\\\hline\".format(i , tmp_wsz,tmp_kob,tmp_chł))"
   ]
  },
  {
   "cell_type": "code",
   "execution_count": 32,
   "metadata": {},
   "outputs": [
    {
     "name": "stdout",
     "output_type": "stream",
     "text": [
      "\\hline Rok &Wspólnie & Kobiety & Mężczyźni \\\\ \\hline\n",
      "Każdy& 1110& 823& 287 \\\\ \\hline \n",
      "1992& 247& 169& 78 \\\\ \\hline\n",
      "1993& 254& 197& 57 \\\\ \\hline\n",
      "1994& 254& 196& 58 \\\\ \\hline\n",
      "1995& 277& 199& 78 \\\\ \\hline\n",
      "1996& 78& 62& 16 \\\\ \\hline\n"
     ]
    }
   ],
   "source": [
    "bakt(18)"
   ]
  },
  {
   "cell_type": "code",
   "execution_count": 33,
   "metadata": {},
   "outputs": [
    {
     "name": "stdout",
     "output_type": "stream",
     "text": [
      "\\hline Rok &Wspólnie & Kobiety & Mężczyźni \\\\ \\hline\n",
      "Każdy& 432& 228& 204 \\\\ \\hline \n",
      "1992& 103& 60& 43 \\\\ \\hline\n",
      "1993& 90& 50& 40 \\\\ \\hline\n",
      "1994& 109& 60& 49 \\\\ \\hline\n",
      "1995& 92& 34& 58 \\\\ \\hline\n",
      "1996& 37& 24& 13 \\\\ \\hline\n"
     ]
    }
   ],
   "source": [
    "bakt(1)"
   ]
  },
  {
   "cell_type": "code",
   "execution_count": 60,
   "metadata": {
    "scrolled": true
   },
   "outputs": [
    {
     "name": "stdout",
     "output_type": "stream",
     "text": [
      "\\item 12.0 : 1149\n",
      "\\item 27.0 : 1120\n",
      "\\item 59.0 : 837\n",
      "\\item 29.0 : 831\n",
      "\\item 56.0 : 771\n",
      "\\item 38.0 : 737\n",
      "\\item 18.0 : 704\n",
      "\\item 34.0 : 688\n",
      "\\item 42.0 : 675\n",
      "\\item 39.0 : 575\n",
      "\\item 9.0 : 572\n",
      "\\item 76.0 : 571\n",
      "\\item 74.0 : 513\n",
      "\\item 6.0 : 512\n",
      "\\item 32.0 : 488\n",
      "\\item 16.0 : 423\n",
      "\\item 78.0 : 419\n",
      "\\item 23.0 : 416\n",
      "\\item 40.0 : 390\n",
      "\\item 1.0 : 353\n",
      "\\item 8.0 : 342\n",
      "\\item 83.0 : 309\n",
      "\\item 70.0 : 303\n",
      "\\item 17.0 : 275\n",
      "\\item 122.0 : 222\n",
      "\\item 4.0 : 186\n",
      "\\item 71.0 : 181\n",
      "\\item 62.0 : 131\n",
      "\\item 5.0 : 84\n",
      "\\item 11.0 : 48\n",
      "\\item 37.0 : 44\n",
      "\\item 54.0 : 21\n",
      "\\item 102.0 : 19\n",
      "\\item 28.0 : 17\n",
      "\\item 19.0 : 12\n",
      "\\item 41.0 : 10\n",
      "\\item 20.0 : 8\n",
      "\\item 43.0 : 6\n",
      "\\item 33.0 : 5\n",
      "\\item 25.0 : 3\n",
      "\\item 45.0 : 3\n",
      "\\item 50.0 : 2\n",
      "\\item 60.0 : 2\n",
      "\\item 21.0 : 2\n",
      "\\item 44.0 : 2\n",
      "\\item 123.0 : 1\n",
      "\\item 107.0 : 1\n",
      "\\item 124.0 : 1\n",
      "\\item 14.0 : 1\n",
      "\\item 35.0 : 1\n",
      "\\item 46.0 : 1\n"
     ]
    }
   ],
   "source": [
    "#4 zadanie \n",
    "importlib.reload(helper)\n",
    "dicte = helper.grup4_1(patient_classes)\n",
    "tab = sorted( dicte,key=lambda a:dicte[a],reverse=True )\n",
    "\n",
    "for i in tab:\n",
    "    print(\"\\\\item {} : {}\".format(i,dicte[i]))\n"
   ]
  },
  {
   "cell_type": "code",
   "execution_count": 61,
   "metadata": {},
   "outputs": [],
   "source": [
    "#18 cola \n",
    "def drug(nr):\n",
    "    print(\"\\\\hline Rok &Wspólnie & Kobiety & Mężczyźni \\\\\\\\ \\\\hline\")\n",
    "    tmp_wsz = helper.grup4_2(patient_classes,nr)\n",
    "    tmp_kob = helper.grup4_2(kobiety,nr)\n",
    "    tmp_chł = helper.grup4_2(chłopy,nr)\n",
    "    print(\"Każdy& {}& {}& {} \\\\\\\\ \\\\hline \".format(tmp_wsz,tmp_kob,tmp_chł))\n",
    "    \n",
    "    for i in range(1992,1997):\n",
    "        tmp_wsz = helper.grup4_2(patient_classes,nr, time_min= datetime.date(i,1,1), time_max=datetime.date(i,12,31))\n",
    "        tmp_kob = helper.grup4_2(kobiety,nr , time_min= datetime.date(i,1,1), time_max=datetime.date(i,12,31))\n",
    "        tmp_chł = helper.grup4_2(chłopy,nr, time_min= datetime.date(i,1,1), time_max=datetime.date(i,12,31))\n",
    "        print(\"{}& {}& {}& {} \\\\\\\\ \\\\hline\".format(i , tmp_wsz,tmp_kob,tmp_chł))"
   ]
  },
  {
   "cell_type": "code",
   "execution_count": 62,
   "metadata": {},
   "outputs": [
    {
     "name": "stdout",
     "output_type": "stream",
     "text": [
      "\\hline Rok &Wspólnie & Kobiety & Mężczyźni \\\\ \\hline\n",
      "Każdy& 710& 511& 199 \\\\ \\hline \n",
      "1992& 159& 106& 53 \\\\ \\hline\n",
      "1993& 154& 116& 38 \\\\ \\hline\n",
      "1994& 218& 166& 52 \\\\ \\hline\n",
      "1995& 106& 65& 41 \\\\ \\hline\n",
      "1996& 73& 58& 15 \\\\ \\hline\n"
     ]
    }
   ],
   "source": [
    "drug(12)"
   ]
  },
  {
   "cell_type": "code",
   "execution_count": 63,
   "metadata": {},
   "outputs": [
    {
     "name": "stdout",
     "output_type": "stream",
     "text": [
      "\\hline Rok &Wspólnie & Kobiety & Mężczyźni \\\\ \\hline\n",
      "Każdy& 744& 563& 181 \\\\ \\hline \n",
      "1992& 138& 104& 34 \\\\ \\hline\n",
      "1993& 135& 101& 34 \\\\ \\hline\n",
      "1994& 192& 148& 44 \\\\ \\hline\n",
      "1995& 207& 153& 54 \\\\ \\hline\n",
      "1996& 72& 57& 15 \\\\ \\hline\n"
     ]
    }
   ],
   "source": [
    "drug(27)"
   ]
  },
  {
   "cell_type": "code",
   "execution_count": 92,
   "metadata": {},
   "outputs": [
    {
     "name": "stdout",
     "output_type": "stream",
     "text": [
      "29.0 (747, 12.0)\n",
      "83.0 (297, 59.0)\n",
      "12.0 (911, 27.0)\n",
      "23.0 (385, 12.0)\n",
      "38.0 (635, 12.0)\n",
      "18.0 (602, 27.0)\n",
      "16.0 (391, 12.0)\n",
      "76.0 (493, 59.0)\n",
      "70.0 (249, 38.0)\n",
      "56.0 (624, 27.0)\n",
      "27.0 (911, 12.0)\n",
      "34.0 (633, 27.0)\n",
      "59.0 (706, 12.0)\n",
      "9.0 (552, 27.0)\n",
      "78.0 (386, 59.0)\n",
      "6.0 (444, 27.0)\n",
      "4.0 (169, 32.0)\n",
      "40.0 (351, 74.0)\n",
      "17.0 (221, 74.0)\n",
      "39.0 (519, 12.0)\n",
      "32.0 (376, 12.0)\n",
      "71.0 (175, 27.0)\n",
      "74.0 (400, 12.0)\n",
      "62.0 (125, 74.0)\n",
      "1.0 (282, 12.0)\n",
      "42.0 (558, 12.0)\n",
      "122.0 (174, 12.0)\n",
      "33.0 (5, 27.0)\n",
      "37.0 (39, 27.0)\n",
      "50.0 (2, 29.0)\n",
      "5.0 (82, 38.0)\n",
      "20.0 (8, 40.0)\n",
      "8.0 (336, 27.0)\n",
      "54.0 (18, 59.0)\n",
      "28.0 (19, 27.0)\n",
      "123.0 (1, 83.0)\n",
      "60.0 (4, 1.0)\n",
      "19.0 (9, 12.0)\n",
      "102.0 (18, 27.0)\n",
      "25.0 (3, 27.0)\n",
      "45.0 (3, 12.0)\n",
      "107.0 (1, 42.0)\n",
      "11.0 (47, 38.0)\n",
      "41.0 (10, 74.0)\n",
      "43.0 (6, 74.0)\n",
      "124.0 (1, 71.0)\n",
      "21.0 (2, 71.0)\n",
      "14.0 (2, 21.0)\n",
      "35.0 (2, 21.0)\n",
      "46.0 (2, 1.0)\n",
      "44.0 (2, 122.0)\n",
      "\n",
      "\n",
      "\n"
     ]
    },
    {
     "data": {
      "text/plain": [
       "[(1, 83.0),\n",
       " (1, 42.0),\n",
       " (1, 71.0),\n",
       " (2, 29.0),\n",
       " (2, 71.0),\n",
       " (2, 21.0),\n",
       " (2, 21.0),\n",
       " (2, 1.0),\n",
       " (2, 122.0),\n",
       " (3, 27.0),\n",
       " (3, 12.0),\n",
       " (4, 1.0),\n",
       " (5, 27.0),\n",
       " (6, 74.0),\n",
       " (8, 40.0),\n",
       " (9, 12.0),\n",
       " (10, 74.0),\n",
       " (18, 59.0),\n",
       " (18, 27.0),\n",
       " (19, 27.0),\n",
       " (39, 27.0),\n",
       " (47, 38.0),\n",
       " (82, 38.0),\n",
       " (125, 74.0),\n",
       " (169, 32.0),\n",
       " (174, 12.0),\n",
       " (175, 27.0),\n",
       " (221, 74.0),\n",
       " (249, 38.0),\n",
       " (282, 12.0),\n",
       " (297, 59.0),\n",
       " (336, 27.0),\n",
       " (351, 74.0),\n",
       " (376, 12.0),\n",
       " (385, 12.0),\n",
       " (386, 59.0),\n",
       " (391, 12.0),\n",
       " (400, 12.0),\n",
       " (444, 27.0),\n",
       " (493, 59.0),\n",
       " (519, 12.0),\n",
       " (552, 27.0),\n",
       " (558, 12.0),\n",
       " (602, 27.0),\n",
       " (624, 27.0),\n",
       " (633, 27.0),\n",
       " (635, 12.0),\n",
       " (706, 12.0),\n",
       " (747, 12.0),\n",
       " (911, 27.0),\n",
       " (911, 12.0)]"
      ]
     },
     "execution_count": 92,
     "metadata": {},
     "output_type": "execute_result"
    }
   ],
   "source": [
    "import pprint as pp\n",
    "importlib.reload(helper)\n",
    "dicte = helper.grup4_3(patient_classes)\n",
    "maximux = []\n",
    "for key in dicte:\n",
    "    maks = max(zip(dicte[key].values(),dicte[key].keys()))\n",
    "    print(\"{} {}\".format(key,maks))\n",
    "    maximux.append(max(zip(dicte[key].values(),dicte[key].keys())))\n",
    "\n",
    "print(\"\\n\\n\".format( ))\n",
    "maximux.sort(key=lambda x:x[0])\n",
    "maximux"
   ]
  },
  {
   "cell_type": "code",
   "execution_count": 93,
   "metadata": {},
   "outputs": [
    {
     "name": "stdout",
     "output_type": "stream",
     "text": [
      "\\hline Rok &Wspólnie & Kobiety & Mężczyźni \\\\ \\hline\n",
      "Każdy& 581& 434& 147 \\\\ \\hline \n",
      "1992& 133& 99& 34 \\\\ \\hline\n",
      "1993& 119& 89& 30 \\\\ \\hline\n",
      "1994& 177& 134& 43 \\\\ \\hline\n",
      "1995& 80& 55& 25 \\\\ \\hline\n",
      "1996& 72& 57& 15 \\\\ \\hline\n"
     ]
    }
   ],
   "source": [
    "print(\"\\\\hline Rok &Wspólnie & Kobiety & Mężczyźni \\\\\\\\ \\\\hline\")\n",
    "tmp_wsz = helper.grup4_4(patient_classes)\n",
    "tmp_kob = helper.grup4_4(kobiety)\n",
    "tmp_chł = helper.grup4_4(chłopy)\n",
    "print(\"Każdy& {}& {}& {} \\\\\\\\ \\\\hline \".format(tmp_wsz,tmp_kob,tmp_chł))\n",
    "\n",
    "for i in range(1992,1997):\n",
    "    tmp_wsz = helper.grup4_4(patient_classes, time_min= datetime.date(i,1,1), time_max=datetime.date(i,12,31))\n",
    "    tmp_kob = helper.grup4_4(kobiety, time_min= datetime.date(i,1,1), time_max=datetime.date(i,12,31))\n",
    "    tmp_chł = helper.grup4_4(chłopy, time_min= datetime.date(i,1,1), time_max=datetime.date(i,12,31))\n",
    "    print(\"{}& {}& {}& {} \\\\\\\\ \\\\hline\".format(i , tmp_wsz,tmp_kob,tmp_chł))"
   ]
  },
  {
   "cell_type": "code",
   "execution_count": 108,
   "metadata": {},
   "outputs": [
    {
     "name": "stdout",
     "output_type": "stream",
     "text": [
      "[1, 1, 1, 1, 1, 1, 1, 1, 2, 2, 2, 2, 2, 3, 4, 4, 6, 6, 6, 8, 11, 17, 24, 27, 66, 1115]\n"
     ]
    },
    {
     "data": {
      "text/plain": [
       "{18: 1115,\n",
       " 1: 66,\n",
       " 100: 27,\n",
       " 327: 24,\n",
       " 35: 17,\n",
       " 33: 6,\n",
       " 301: 2,\n",
       " 394: 8,\n",
       " 5: 2,\n",
       " 500: 6,\n",
       " 659: 1,\n",
       " 65: 11,\n",
       " 38: 3,\n",
       " 200: 1,\n",
       " 48: 2,\n",
       " 41: 2,\n",
       " 102: 1,\n",
       " 55: 1,\n",
       " 62: 1,\n",
       " 140: 4,\n",
       " 660: 4,\n",
       " 328: 1,\n",
       " 40: 2,\n",
       " 202: 6,\n",
       " 34: 1,\n",
       " 4: 1}"
      ]
     },
     "execution_count": 108,
     "metadata": {},
     "output_type": "execute_result"
    }
   ],
   "source": [
    "#piąte\n",
    "importlib.reload(helper)\n",
    "dicte = helper.grup5(patient_classes)\n",
    "\n",
    "sor = sorted(dicte.values())\n",
    "print(sor)\n",
    "dicte"
   ]
  },
  {
   "cell_type": "code",
   "execution_count": 109,
   "metadata": {},
   "outputs": [
    {
     "name": "stdout",
     "output_type": "stream",
     "text": [
      "\\hline Rok &Wspólnie & Kobiety & Mężczyźni \\\\ \\hline\n",
      "Każdy& 66& 43& 23 \\\\ \\hline \n",
      "1992& 9& 5& 4 \\\\ \\hline\n",
      "1993& 12& 7& 5 \\\\ \\hline\n",
      "1994& 15& 10& 5 \\\\ \\hline\n",
      "1995& 17& 13& 4 \\\\ \\hline\n",
      "1996& 13& 8& 5 \\\\ \\hline\n"
     ]
    }
   ],
   "source": [
    "print(\"\\\\hline Rok &Wspólnie & Kobiety & Mężczyźni \\\\\\\\ \\\\hline\")\n",
    "tmp_wsz = helper.grup5_2(patient_classes)\n",
    "tmp_kob = helper.grup5_2(kobiety)\n",
    "tmp_chł = helper.grup5_2(chłopy)\n",
    "print(\"Każdy& {}& {}& {} \\\\\\\\ \\\\hline \".format(tmp_wsz,tmp_kob,tmp_chł))\n",
    "\n",
    "for i in range(1992,1997):\n",
    "    tmp_wsz = helper.grup5_2(patient_classes, time_min= datetime.date(i,1,1), time_max=datetime.date(i,12,31))\n",
    "    tmp_kob = helper.grup5_2(kobiety, time_min= datetime.date(i,1,1), time_max=datetime.date(i,12,31))\n",
    "    tmp_chł = helper.grup5_2(chłopy, time_min= datetime.date(i,1,1), time_max=datetime.date(i,12,31))\n",
    "    print(\"{}& {}& {}& {} \\\\\\\\ \\\\hline\".format(i , tmp_wsz,tmp_kob,tmp_chł))"
   ]
  },
  {
   "cell_type": "code",
   "execution_count": 110,
   "metadata": {},
   "outputs": [
    {
     "name": "stdout",
     "output_type": "stream",
     "text": [
      "\\hline Rok &Wspólnie & Kobiety & Mężczyźni \\\\ \\hline\n",
      "Każdy& 10& 7& 3 \\\\ \\hline \n",
      "1992& 1& 0& 1 \\\\ \\hline\n",
      "1993& 1& 1& 0 \\\\ \\hline\n",
      "1994& 4& 2& 2 \\\\ \\hline\n",
      "1995& 2& 2& 0 \\\\ \\hline\n",
      "1996& 2& 2& 0 \\\\ \\hline\n"
     ]
    }
   ],
   "source": [
    "print(\"\\\\hline Rok &Wspólnie & Kobiety & Mężczyźni \\\\\\\\ \\\\hline\")\n",
    "tmp_wsz = helper.grup5_2(nefr_classes)\n",
    "tmp_kob = helper.grup5_2(nefr_kob_classes)\n",
    "tmp_chł = helper.grup5_2(nefr_chł_classes)\n",
    "print(\"Każdy& {}& {}& {} \\\\\\\\ \\\\hline \".format(tmp_wsz,tmp_kob,tmp_chł))\n",
    "\n",
    "for i in range(1992,1997):\n",
    "    tmp_wsz = helper.grup5_2(nefr_classes, time_min= datetime.date(i,1,1), time_max=datetime.date(i,12,31))\n",
    "    tmp_kob = helper.grup5_2(nefr_kob_classes, time_min= datetime.date(i,1,1), time_max=datetime.date(i,12,31))\n",
    "    tmp_chł = helper.grup5_2(nefr_chł_classes, time_min= datetime.date(i,1,1), time_max=datetime.date(i,12,31))\n",
    "    print(\"{}& {}& {}& {} \\\\\\\\ \\\\hline\".format(i , tmp_wsz,tmp_kob,tmp_chł))"
   ]
  },
  {
   "cell_type": "code",
   "execution_count": null,
   "metadata": {},
   "outputs": [],
   "source": []
  }
 ],
 "metadata": {
  "kernelspec": {
   "display_name": "Python 3",
   "language": "python",
   "name": "python3"
  },
  "language_info": {
   "codemirror_mode": {
    "name": "ipython",
    "version": 3
   },
   "file_extension": ".py",
   "mimetype": "text/x-python",
   "name": "python",
   "nbconvert_exporter": "python",
   "pygments_lexer": "ipython3",
   "version": "3.7.5rc1"
  }
 },
 "nbformat": 4,
 "nbformat_minor": 2
}
